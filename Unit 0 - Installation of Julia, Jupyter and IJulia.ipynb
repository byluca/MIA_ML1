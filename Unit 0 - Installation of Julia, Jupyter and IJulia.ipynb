{
 "cells": [
  {
   "cell_type": "markdown",
   "id": "95075a83",
   "metadata": {},
   "source": [
    "# Introduction to Julia Language\n",
    "\n",
    "For the implementation of the practice exercises, there are several options in terms of programming language.  Among the many options available, three possibilities have been considered:\n",
    "\n",
    "* Matlab. This is a scientific language with many years of experience, and therefore has the advantage of having a large number of modules (called Toolboxes) for almost any operation you want to perform, along with excellent documentation.  This makes it a very suitable language to get started and learn. However, its main disadvantage is that it is necessary to purchase a licence to use it.   This requirement has meant that many companies do not opt for this option, so in practice it is not as widely used as Python at a business level\n",
    "\n",
    "* Python.  It is undoubtedly the most widely used.  It is a modern, simple language, with a large number of modules and abundant documentation, although without reaching the number or quality of Matlab. It is free and open source, and general purpose, which has made it one of the most widely used languages in the business world today.  Moreover, one of the first Deep Learning libraries, called Tensorflow, was developed by Google for this language, which has drastically increased the community of developers of machine learning applications in this language.  In addition, libraries such as Scikit-Learn also allow the use of other machine learning techniques such as decision trees or Support Vector Machines.  The biggest problem with this language is that it is not a scientific language but a general-purpose language, and vector programming is not supported natively, but through the numpy library, which leads to a considerable loss of performance.\n",
    "\n",
    "* Julia.  This is an emerging, very short-lived, fully scientific language developed at the Massachusetts Institute of Technology (MIT).  Its first stable version is only a few years old, and it is currently under intense development.  For this reason, it does not have the same number of modules as Matlab or Python, although the number of modules it has is growing rapidly, as the language is free and open source.  This language has been developed as an intermediate point between Matlab, as a scientific language, and Python, as a simple, open source language, with a higher execution speed than both. Its main drawbacks are that the developer community is not as large as that of Python, and the number of modules is not as large as that of Matlab, and, given its short period of time, it has not yet made its presence felt in the business world.\n",
    "\n",
    "As has been indicated, it is a language that does not yet have a large presence at the enterprise level, however, this is mitigated by three important factors:\n",
    "\n",
    "* Having acquired Python language skills in other subjects, this subject provides an opportunity to learn a scientific language that completes the knowledge.\n",
    "\n",
    "* Several of the world's most prestigious institutions such as Berkley, Stanford or MIT recomend and teach this subject in this language because of the control it offers when it comes to researching or implementing details without losing performance. This nearly guarantees that in a short period of time it will start to be seen in the enterprise level.\n",
    "\n",
    "* Although Python is the most widely used language at the enterprise level, the Scikit-Learn library is also available in Julia.  So, their learning in this subject would mean that they could also use it in their work in a company in Python effortlessly, as they would have knowledge of both the library and the language.\n",
    "\n",
    "## Installation\n",
    "\n",
    "Julia installation is pretty straightforward, whether using precompiled binaries or compiling from source. Download and install Julia by following the instructions at [https://julialang.org/downloads/].\n",
    "\n",
    "> ⚠️ **Older Mac users**: Installing Julia might be troublesome due to deprecated compilers. In case of errors during installation, it might be worth trying to install it via [MacPorts](https://ports.macports.org/port/julia/). After MacPorts [installation](https://www.macports.org/install.php/), Julia can be installed just by `sudo port install julia`.\n",
    "\n",
    "It could be worth to also install jupyter in a local environment to perform some test. This can be done by executing the following command, if you do not have it already installed."
   ]
  },
  {
   "cell_type": "markdown",
   "id": "6a128941",
   "metadata": {},
   "source": [
    "To be executed if needed on the terminal, previous to execute any code here:\n",
    "```bash\n",
    "        pip install notebook\n",
    "```"
   ]
  },
  {
   "cell_type": "markdown",
   "id": "80d0c277",
   "metadata": {},
   "source": [
    "After that installation you can proceed to install the kernel of Julia for jupyter notebook. Simply open a terminal and type `julia`. You should see the following environment \n",
    "![Image of the startup of Julia in the terminal](./img/JuliaTerminal.png \"Julia Terminal\")"
   ]
  },
  {
   "cell_type": "markdown",
   "id": "382e7e24",
   "metadata": {},
   "source": [
    "To add the support for notebooks to should execute the following lines, which we would cover more indeed on the following lines"
   ]
  },
  {
   "cell_type": "markdown",
   "id": "0b1734c0",
   "metadata": {},
   "source": [
    "```julia\n",
    "    using Pkg\n",
    "    Pkg.add(\"IJulia\")\n",
    "```"
   ]
  },
  {
   "cell_type": "markdown",
   "id": "8f1cb903",
   "metadata": {},
   "source": [
    "This lines are loading the `Pkg` package, which is used to manage packages in Julia, and we are adding the `IJulia` package. Now you can run commands and create a notebook in Julia inside Jupiter notebooks. The next step is to run the command \n",
    "```bash\n",
    "    jupyter notebook\n",
    "```\n",
    "After that you can access the URL address and create new notebooks in python and julia, or both."
   ]
  },
  {
   "cell_type": "markdown",
   "id": "e84e5abc",
   "metadata": {},
   "source": [
    "In this subject different Julia packages will be used.  Some of them are already installed, for example the Statistics package. To use it, you can simply type `using Statistics` at the beginning of a script. If you only want to use one or several functions and do not want to load the whole package, you can indicate this by typing something like `using Statistics: mean`.  On the other hand, other packages do not come by default in the Julia distribution, and need to be installed. Some of these packages are as follows: \n",
    "\n",
    "* FileIO: Allows to operate with files. \n",
    "* XLSX: Allows Excel files to be loaded into Julia. \n",
    "* JLD2: Allows to load and save Julia variables to file.  It is necessary to have the FileIO package installed. \n",
    "* Flux: Allows to train Artificial Neuron Networks in Julia. \n",
    "* ScikitLearn: Python library that provides a uniform interface to train and use Machine Learning models, as well as other utilities. In Julia, these functionalities are available in the same library. \n",
    "* Plots: Allows you to plot plots in Julia. \n",
    "* MAT: Allows to load Matlab variables in Julia. \n",
    "* Images: Allows you to work with images. \n",
    "\n",
    "The first time they are used, they are pre-compiled. For example, if the data to be loaded is in Excel sheet format, the `readdata` function of the XLSX package can be used to load it. "
   ]
  },
  {
   "cell_type": "code",
   "execution_count": null,
   "id": "2cc17900",
   "metadata": {},
   "outputs": [],
   "source": [
    "import Pkg; Pkg.add(\"XLSX\");"
   ]
  },
  {
   "cell_type": "code",
   "execution_count": null,
   "id": "3e6307ff",
   "metadata": {},
   "outputs": [],
   "source": [
    "using XLSX:readdata"
   ]
  },
  {
   "cell_type": "markdown",
   "id": "976c11b4",
   "metadata": {},
   "source": [
    "## Basic syntax in Julia\n",
    "This section will show some typical operations tith a dual objective, first to be a quick reference cheatsheet and second to ensure that the previous septup is properly working. Many od the examples are based on this [tutorial](https://learnxinyminutes.com/docs/julia/) that can be used as additional reference. "
   ]
  },
  {
   "cell_type": "markdown",
   "id": "2c6078ba",
   "metadata": {},
   "source": [
    "### Types of numbers\n",
    "In Julia, there are several types of numbers. Although during the first practice we will indeep in this question. Here are some examples of different definitions"
   ]
  },
  {
   "cell_type": "code",
   "execution_count": null,
   "id": "68093cf0",
   "metadata": {},
   "outputs": [],
   "source": [
    "typeof(2)"
   ]
  },
  {
   "cell_type": "code",
   "execution_count": null,
   "id": "d769e217",
   "metadata": {},
   "outputs": [],
   "source": [
    "typeof(4.0)"
   ]
  },
  {
   "cell_type": "code",
   "execution_count": null,
   "id": "40b08f5c",
   "metadata": {},
   "outputs": [],
   "source": [
    "typeof(1 + 1im)"
   ]
  },
  {
   "cell_type": "code",
   "execution_count": null,
   "id": "4491f1cc",
   "metadata": {},
   "outputs": [],
   "source": [
    "typeof(2 // 3)"
   ]
  },
  {
   "cell_type": "code",
   "execution_count": null,
   "id": "983129fd",
   "metadata": {},
   "outputs": [],
   "source": [
    "supertype(AbstractFloat)"
   ]
  },
  {
   "cell_type": "code",
   "execution_count": null,
   "id": "b1e4f8b4",
   "metadata": {},
   "outputs": [],
   "source": [
    "supertype(Real)"
   ]
  },
  {
   "cell_type": "code",
   "execution_count": null,
   "id": "b0d551e5",
   "metadata": {},
   "outputs": [],
   "source": [
    "supertype(Number)"
   ]
  },
  {
   "cell_type": "markdown",
   "id": "54e63c0e",
   "metadata": {},
   "source": [
    "### Boolean Operators\n",
    "Be aware that the negation is performed with `!`"
   ]
  },
  {
   "cell_type": "code",
   "execution_count": null,
   "id": "13126cf7",
   "metadata": {},
   "outputs": [],
   "source": [
    "(1==1) & !(1!=1)"
   ]
  },
  {
   "cell_type": "markdown",
   "id": "e2522965",
   "metadata": {},
   "source": [
    "### Strings"
   ]
  },
  {
   "cell_type": "code",
   "execution_count": null,
   "id": "3ef84612",
   "metadata": {},
   "outputs": [],
   "source": [
    "typeof(\"This is a string\")"
   ]
  },
  {
   "cell_type": "code",
   "execution_count": null,
   "id": "25b37cec",
   "metadata": {},
   "outputs": [],
   "source": [
    "typeof('a') != typeof(\"a\") # the single quote is only for caracters"
   ]
  },
  {
   "cell_type": "code",
   "execution_count": null,
   "id": "89053a44",
   "metadata": {},
   "outputs": [],
   "source": [
    "using Printf\n",
    "Printf.@printf \"%d is less than %f\" 4.5 5.3"
   ]
  },
  {
   "cell_type": "code",
   "execution_count": null,
   "id": "6d42148c",
   "metadata": {},
   "outputs": [],
   "source": [
    "println(\"This is in Julia - $(VERSION)\")"
   ]
  },
  {
   "cell_type": "markdown",
   "id": "1fbd1e70",
   "metadata": {},
   "source": [
    "### Variable\n",
    "The variable names has to start with a letter, but after that you can use letters, digits, underscores, and exclamation points"
   ]
  },
  {
   "cell_type": "code",
   "execution_count": null,
   "id": "43259794",
   "metadata": {},
   "outputs": [],
   "source": [
    "xMarksTheSpot2Dig! = 1"
   ]
  },
  {
   "cell_type": "code",
   "execution_count": null,
   "id": "ef9fb8ac",
   "metadata": {},
   "outputs": [],
   "source": [
    "a = Int64[]"
   ]
  },
  {
   "cell_type": "code",
   "execution_count": null,
   "id": "a089bcd9",
   "metadata": {},
   "outputs": [],
   "source": [
    "push!(a, 1)"
   ]
  },
  {
   "cell_type": "code",
   "execution_count": null,
   "id": "c9c3ef0b",
   "metadata": {},
   "outputs": [],
   "source": [
    "push!(a, 2)"
   ]
  },
  {
   "cell_type": "code",
   "execution_count": null,
   "id": "16688242",
   "metadata": {
    "scrolled": true
   },
   "outputs": [],
   "source": [
    "b = [3, 4, 5]"
   ]
  },
  {
   "cell_type": "code",
   "execution_count": null,
   "id": "732d012c",
   "metadata": {},
   "outputs": [],
   "source": [
    "b[1]"
   ]
  },
  {
   "cell_type": "code",
   "execution_count": null,
   "id": "2a05c39d",
   "metadata": {},
   "outputs": [],
   "source": [
    "b[end]"
   ]
  },
  {
   "cell_type": "code",
   "execution_count": null,
   "id": "ecc49a0c",
   "metadata": {},
   "outputs": [],
   "source": [
    "append!(a, b)"
   ]
  },
  {
   "cell_type": "code",
   "execution_count": null,
   "id": "8bb1f306",
   "metadata": {},
   "outputs": [],
   "source": [
    "pop!(a)"
   ]
  },
  {
   "cell_type": "code",
   "execution_count": null,
   "id": "353b6c94",
   "metadata": {},
   "outputs": [],
   "source": [
    "a[2:3]"
   ]
  },
  {
   "cell_type": "code",
   "execution_count": null,
   "id": "ca4a26aa",
   "metadata": {},
   "outputs": [],
   "source": [
    "4 in a"
   ]
  },
  {
   "cell_type": "code",
   "execution_count": null,
   "id": "7ac03623",
   "metadata": {
    "scrolled": true
   },
   "outputs": [],
   "source": [
    "length(a)"
   ]
  },
  {
   "cell_type": "markdown",
   "id": "2a78acf8",
   "metadata": {},
   "source": [
    "### Tuples"
   ]
  },
  {
   "cell_type": "code",
   "execution_count": null,
   "id": "39028956",
   "metadata": {},
   "outputs": [],
   "source": [
    "a = (1, 5, 3)\n",
    "typeof(a)"
   ]
  },
  {
   "cell_type": "code",
   "execution_count": null,
   "id": "ce029a9f",
   "metadata": {},
   "outputs": [],
   "source": [
    "a[2]"
   ]
  },
  {
   "cell_type": "code",
   "execution_count": null,
   "id": "fddebdd4",
   "metadata": {},
   "outputs": [],
   "source": [
    "a, b, c = (1, 2, 3)"
   ]
  },
  {
   "cell_type": "code",
   "execution_count": null,
   "id": "a863b29d",
   "metadata": {},
   "outputs": [],
   "source": [
    "println(\" First element is $(a), Second is $(b), and last is $(c)\")"
   ]
  },
  {
   "cell_type": "code",
   "execution_count": null,
   "id": "0cc16427",
   "metadata": {},
   "outputs": [],
   "source": [
    "n = (x=1, y=2, z=3) # use keyword assignments in a tuple to create a NamedTuple"
   ]
  },
  {
   "cell_type": "code",
   "execution_count": null,
   "id": "17033d10",
   "metadata": {},
   "outputs": [],
   "source": [
    "println(\" First element is $(n.x), Second is $(n.y), and last is $(n.z)\")"
   ]
  },
  {
   "cell_type": "markdown",
   "id": "3911ecd2",
   "metadata": {},
   "source": [
    "### Dictionaries"
   ]
  },
  {
   "cell_type": "code",
   "execution_count": null,
   "id": "7ee24c7b",
   "metadata": {},
   "outputs": [],
   "source": [
    "d = Dict(\"one\"=>1, \"two\"=>2, \"three\"=>3)"
   ]
  },
  {
   "cell_type": "code",
   "execution_count": null,
   "id": "d2c68e4c",
   "metadata": {},
   "outputs": [],
   "source": [
    "d[\"one\"]"
   ]
  },
  {
   "cell_type": "code",
   "execution_count": null,
   "id": "e0392a5e",
   "metadata": {},
   "outputs": [],
   "source": [
    "keys(d)"
   ]
  },
  {
   "cell_type": "code",
   "execution_count": null,
   "id": "9bcb33f3",
   "metadata": {},
   "outputs": [],
   "source": [
    "values(d)"
   ]
  },
  {
   "cell_type": "code",
   "execution_count": null,
   "id": "63dd185d",
   "metadata": {},
   "outputs": [],
   "source": [
    "haskey(d, \"one\")"
   ]
  },
  {
   "cell_type": "markdown",
   "id": "60e4a1cd",
   "metadata": {},
   "source": [
    "### Control Flow"
   ]
  },
  {
   "cell_type": "code",
   "execution_count": null,
   "id": "ba39b69a",
   "metadata": {},
   "outputs": [],
   "source": [
    "condition_var = 5\n",
    "\n",
    "# if-then=else\n",
    "# Indentation is not meaningful in Julia.\n",
    "\n",
    "if condition_var > 10\n",
    "    println(\"If branch is mandatory\")\n",
    "elseif condition_var < 10    \n",
    "    println(\"Elseif branch is optional\")\n",
    "else                    \n",
    "    println(\"The else branch os also optional\")\n",
    "end"
   ]
  },
  {
   "cell_type": "code",
   "execution_count": null,
   "id": "0076c494",
   "metadata": {},
   "outputs": [],
   "source": [
    "# The for loop can work on iterables\n",
    "for animal in [\"dog\", \"cat\", \"mouse\"]\n",
    "    println(\"$animal is a mammal\")\n",
    "    # You can use $ to interpolate variables or expression into strings\n",
    "end"
   ]
  },
  {
   "cell_type": "code",
   "execution_count": null,
   "id": "1bd23712",
   "metadata": {},
   "outputs": [],
   "source": [
    "for (k,v) in Dict(\"dog\"=>\"mammal\",\"cat\"=>\"mammal\",\"mouse\"=>\"mammal\")\n",
    "    println(\"$k is a $v\")\n",
    "end"
   ]
  },
  {
   "cell_type": "code",
   "execution_count": null,
   "id": "643fc957",
   "metadata": {},
   "outputs": [],
   "source": [
    "# The while loop\n",
    "x = 0\n",
    "while x < 4\n",
    "    global x # be aware that the variable which is changed is the global one\n",
    "    println(x)\n",
    "    x += 1  # Shorthand for x = x + 1\n",
    "end"
   ]
  },
  {
   "cell_type": "markdown",
   "id": "d1b96491",
   "metadata": {},
   "source": [
    "### Functions"
   ]
  },
  {
   "cell_type": "code",
   "execution_count": null,
   "id": "69b0e334",
   "metadata": {},
   "outputs": [],
   "source": [
    "# You can define a function with or without defatult values\n",
    "function defaults(a, b, x=5, y=6)\n",
    "    return \"$a $b and $x $y\"\n",
    "end"
   ]
  },
  {
   "cell_type": "code",
   "execution_count": null,
   "id": "505aff0f",
   "metadata": {},
   "outputs": [],
   "source": [
    "defaults('h', 'g', 'j')  # => \"h g and j 6\""
   ]
  },
  {
   "cell_type": "code",
   "execution_count": null,
   "id": "8b7c615e",
   "metadata": {},
   "outputs": [],
   "source": [
    "try\n",
    "    defaults('h')  # => ERROR: MethodError: no method matching defaults(::Char)\n",
    "catch e\n",
    "    println(e)\n",
    "end"
   ]
  },
  {
   "cell_type": "code",
   "execution_count": null,
   "id": "653d6b28",
   "metadata": {},
   "outputs": [],
   "source": [
    "function all_the_args(normalArg, optionalPositionalArg=2; keywordArg=\"foo\")\n",
    "    println(\"normal arg: $normalArg\")\n",
    "    println(\"optional arg: $optionalPositionalArg\")\n",
    "    println(\"keyword arg: $keywordArg\")\n",
    "end\n",
    "\n",
    "all_the_args(\"normal\")"
   ]
  },
  {
   "cell_type": "code",
   "execution_count": null,
   "id": "551abb9c",
   "metadata": {},
   "outputs": [],
   "source": [
    "# Lambda expressions\n",
    "(x -> x+1)(3)"
   ]
  },
  {
   "cell_type": "code",
   "execution_count": null,
   "id": "ac40f9d3",
   "metadata": {},
   "outputs": [],
   "source": [
    "# Julia has first class functions\n",
    "function create_adder(x)\n",
    "    adder = function (y)\n",
    "        return x + y\n",
    "    end\n",
    "    return adder\n",
    "end"
   ]
  },
  {
   "cell_type": "code",
   "execution_count": null,
   "id": "9b9efe20",
   "metadata": {},
   "outputs": [],
   "source": [
    "# This function is identical to create_adder implementation above.\n",
    "function create_adder(x)\n",
    "    y -> x + y\n",
    "end"
   ]
  },
  {
   "cell_type": "code",
   "execution_count": null,
   "id": "6ce5b189",
   "metadata": {},
   "outputs": [],
   "source": [
    "# You can also name the internal function, if you want\n",
    "function create_adder(x)\n",
    "    function adder(y)\n",
    "        x + y\n",
    "    end\n",
    "    adder\n",
    "end"
   ]
  },
  {
   "cell_type": "code",
   "execution_count": null,
   "id": "e230520e",
   "metadata": {},
   "outputs": [],
   "source": [
    "f = create_adder(10)\n",
    "map(f, [1,2,3])"
   ]
  },
  {
   "cell_type": "code",
   "execution_count": null,
   "id": "63030e98",
   "metadata": {},
   "outputs": [],
   "source": [
    "filter(x -> x > 5, [3, 4, 5, 6, 7])"
   ]
  },
  {
   "cell_type": "code",
   "execution_count": null,
   "id": "d2183d64",
   "metadata": {},
   "outputs": [],
   "source": [
    "[f(i) for i in [1, 2, 3]]"
   ]
  },
  {
   "cell_type": "markdown",
   "id": "8f10172b",
   "metadata": {},
   "source": [
    "### Composite Types\n",
    "Julia supports the definition of new types in a hierarchy with allows to inheritance of methods  and properties. It will also allow the multiple dispache "
   ]
  },
  {
   "cell_type": "code",
   "execution_count": null,
   "id": "f0e7c9ec",
   "metadata": {},
   "outputs": [],
   "source": [
    "abstract type Cat end # just a name and point in the type hierarchy\n",
    "subtypes(Cat)"
   ]
  },
  {
   "cell_type": "code",
   "execution_count": null,
   "id": "6d7392f8",
   "metadata": {},
   "outputs": [],
   "source": [
    "# <: is the subtyping operator\n",
    "struct Lion <: Cat # Lion is a subtype of Cat\n",
    "    mane_color\n",
    "    roar::String\n",
    "end\n",
    "\n",
    "struct Panther <: Cat # Panther is also a subtype of Cat\n",
    "  eye_color\n",
    "  Panther() = new(\"green\")\n",
    "  # Panthers will only have this constructor, and no default constructor.\n",
    "end\n",
    "\n",
    "# Also it is not required to inheritance anything\n",
    "struct Tiger\n",
    "  taillength::Float64\n",
    "  coatcolor # not including a type annotation is the same as `::Any`\n",
    "end\n",
    "\n",
    "subtypes(Cat)"
   ]
  },
  {
   "cell_type": "code",
   "execution_count": null,
   "id": "cdba4397",
   "metadata": {},
   "outputs": [],
   "source": [
    "function voice(animal::Lion)\n",
    "  animal.roar # access type properties using dot notation\n",
    "end\n",
    "\n",
    "function voice(animal::Panther)\n",
    "  \"grrr\"\n",
    "end\n",
    "\n",
    "function voice(animal::Tiger)\n",
    "  \"rawwwr\"\n",
    "end"
   ]
  },
  {
   "cell_type": "code",
   "execution_count": null,
   "id": "0c6d5461",
   "metadata": {},
   "outputs": [],
   "source": [
    "println(\"The Tiger says $(voice(Tiger(3.5,\"orange\")))\")\n",
    "println(\"The Lion says $(voice(Lion(\"brown\",\"ROAAAR\")))\")\n",
    "println(\"The Lion says $(voice(Panther()))\")"
   ]
  },
  {
   "cell_type": "markdown",
   "id": "56aa2e90",
   "metadata": {},
   "source": [
    "### Native Code"
   ]
  },
  {
   "cell_type": "code",
   "execution_count": 1,
   "id": "91dbab59",
   "metadata": {},
   "outputs": [
    {
     "data": {
      "text/plain": [
       "Add (generic function with 1 method)"
      ]
     },
     "execution_count": 1,
     "metadata": {},
     "output_type": "execute_result"
    }
   ],
   "source": [
    "Add(x, y) = x + y"
   ]
  },
  {
   "cell_type": "code",
   "execution_count": 2,
   "id": "ee470fd9",
   "metadata": {},
   "outputs": [
    {
     "data": {
      "text/plain": [
       "9"
      ]
     },
     "execution_count": 2,
     "metadata": {},
     "output_type": "execute_result"
    }
   ],
   "source": [
    "Add(4,5)"
   ]
  },
  {
   "cell_type": "code",
   "execution_count": 3,
   "id": "eb1a7277",
   "metadata": {},
   "outputs": [
    {
     "name": "stdout",
     "output_type": "stream",
     "text": [
      "\t\u001b[0m.text\n",
      "\t\u001b[0m.file\t\u001b[0m\"Add\"\n",
      "\t\u001b[0m.globl\t\u001b[0mjulia_Add_801                   \u001b[90m# -- Begin function julia_Add_801\u001b[39m\n",
      "\t\u001b[0m.p2align\t\u001b[33m4\u001b[39m\u001b[0m, \u001b[33m0x90\u001b[39m\n",
      "\t\u001b[0m.type\t\u001b[0mjulia_Add_801\u001b[0m,\u001b[0m@function\n",
      "\u001b[91mjulia_Add_801:\u001b[39m                          \u001b[90m# @julia_Add_801\u001b[39m\n",
      "\u001b[90m; ┌ @ In[1]:1 within `Add`\u001b[39m\n",
      "\u001b[90m# %bb.0:                                # %top\u001b[39m\n",
      "\t\u001b[96m\u001b[1mpush\u001b[22m\u001b[39m\t\u001b[0mrbp\n",
      "\t\u001b[96m\u001b[1mmov\u001b[22m\u001b[39m\t\u001b[0mrbp\u001b[0m, \u001b[0mrsp\n",
      "                                        \u001b[90m# kill: def $esi killed $esi def $rsi\u001b[39m\n",
      "                                        \u001b[90m# kill: def $edi killed $edi def $rdi\u001b[39m\n",
      "\u001b[90m; │┌ @ int.jl:87 within `+`\u001b[39m\n",
      "\t\u001b[96m\u001b[1mlea\u001b[22m\u001b[39m\t\u001b[0meax\u001b[0m, \u001b[33m[\u001b[39m\u001b[0mrdi \u001b[0m+ \u001b[0mrsi\u001b[33m]\u001b[39m\n",
      "\u001b[90m; │└\u001b[39m\n",
      "\t\u001b[96m\u001b[1mpop\u001b[22m\u001b[39m\t\u001b[0mrbp\n",
      "\t\u001b[96m\u001b[1mret\u001b[22m\u001b[39m\n",
      "\u001b[91m.Lfunc_end0:\u001b[39m\n",
      "\t\u001b[0m.size\t\u001b[0mjulia_Add_801\u001b[0m, \u001b[0m.Lfunc_end0-julia_Add_801\n",
      "\u001b[90m; └\u001b[39m\n",
      "                                        \u001b[90m# -- End function\u001b[39m\n",
      "\t\u001b[0m.section\t\u001b[0m\".note.GNU-stack\"\u001b[0m,\u001b[0m\"\"\u001b[0m,\u001b[0m@progbits\n"
     ]
    }
   ],
   "source": [
    "code_native(Add, (Int32,Int32), syntax = :intel)"
   ]
  },
  {
   "cell_type": "code",
   "execution_count": 4,
   "id": "2a9a527d",
   "metadata": {},
   "outputs": [
    {
     "name": "stdout",
     "output_type": "stream",
     "text": [
      "\t\u001b[0m.text\n",
      "\t\u001b[0m.file\t\u001b[0m\"Add\"\n",
      "\t\u001b[0m.globl\t\u001b[0mjulia_Add_826                   \u001b[90m# -- Begin function julia_Add_826\u001b[39m\n",
      "\t\u001b[0m.p2align\t\u001b[33m4\u001b[39m\u001b[0m, \u001b[33m0x90\u001b[39m\n",
      "\t\u001b[0m.type\t\u001b[0mjulia_Add_826\u001b[0m,\u001b[0m@function\n",
      "\u001b[91mjulia_Add_826:\u001b[39m                          \u001b[90m# @julia_Add_826\u001b[39m\n",
      "\u001b[90m; ┌ @ In[1]:1 within `Add`\u001b[39m\n",
      "\u001b[90m# %bb.0:                                # %top\u001b[39m\n",
      "\t\u001b[96m\u001b[1mpush\u001b[22m\u001b[39m\t\u001b[0mrbp\n",
      "\t\u001b[96m\u001b[1mmov\u001b[22m\u001b[39m\t\u001b[0mrbp\u001b[0m, \u001b[0mrsp\n",
      "\u001b[90m; │┌ @ float.jl:409 within `+`\u001b[39m\n",
      "\t\u001b[96m\u001b[1mvaddss\u001b[22m\u001b[39m\t\u001b[0mxmm0\u001b[0m, \u001b[0mxmm0\u001b[0m, \u001b[0mxmm1\n",
      "\u001b[90m; │└\u001b[39m\n",
      "\t\u001b[96m\u001b[1mpop\u001b[22m\u001b[39m\t\u001b[0mrbp\n",
      "\t\u001b[96m\u001b[1mret\u001b[22m\u001b[39m\n",
      "\u001b[91m.Lfunc_end0:\u001b[39m\n",
      "\t\u001b[0m.size\t\u001b[0mjulia_Add_826\u001b[0m, \u001b[0m.Lfunc_end0-julia_Add_826\n",
      "\u001b[90m; └\u001b[39m\n",
      "                                        \u001b[90m# -- End function\u001b[39m\n",
      "\t\u001b[0m.section\t\u001b[0m\".note.GNU-stack\"\u001b[0m,\u001b[0m\"\"\u001b[0m,\u001b[0m@progbits\n"
     ]
    }
   ],
   "source": [
    "code_native(Add, (Float32,Float32), syntax = :intel)"
   ]
  },
  {
   "cell_type": "code",
   "execution_count": 5,
   "id": "db517a1e",
   "metadata": {},
   "outputs": [
    {
     "name": "stdout",
     "output_type": "stream",
     "text": [
      "\u001b[90m;  @ In[1]:1 within `Add`\u001b[39m\n",
      "\u001b[95mdefine\u001b[39m \u001b[36mi32\u001b[39m \u001b[93m@julia_Add_858\u001b[39m\u001b[33m(\u001b[39m\u001b[36mi32\u001b[39m \u001b[95msignext\u001b[39m \u001b[0m%0\u001b[0m, \u001b[36mi32\u001b[39m \u001b[95msignext\u001b[39m \u001b[0m%1\u001b[33m)\u001b[39m \u001b[0m#0 \u001b[33m{\u001b[39m\n",
      "\u001b[91mtop:\u001b[39m\n",
      "\u001b[90m; ┌ @ int.jl:87 within `+`\u001b[39m\n",
      "   \u001b[0m%2 \u001b[0m= \u001b[96m\u001b[1madd\u001b[22m\u001b[39m \u001b[36mi32\u001b[39m \u001b[0m%1\u001b[0m, \u001b[0m%0\n",
      "\u001b[90m; └\u001b[39m\n",
      "  \u001b[96m\u001b[1mret\u001b[22m\u001b[39m \u001b[36mi32\u001b[39m \u001b[0m%2\n",
      "\u001b[33m}\u001b[39m\n"
     ]
    }
   ],
   "source": [
    "code_llvm(Add, (Int32,Int32))"
   ]
  },
  {
   "cell_type": "code",
   "execution_count": null,
   "id": "522ecc1b",
   "metadata": {},
   "outputs": [],
   "source": []
  }
 ],
 "metadata": {
  "kernelspec": {
   "display_name": "Julia 1.10.0",
   "language": "julia",
   "name": "julia-1.10"
  },
  "language_info": {
   "file_extension": ".jl",
   "mimetype": "application/julia",
   "name": "julia",
   "version": "1.10.0"
  }
 },
 "nbformat": 4,
 "nbformat_minor": 5
}
