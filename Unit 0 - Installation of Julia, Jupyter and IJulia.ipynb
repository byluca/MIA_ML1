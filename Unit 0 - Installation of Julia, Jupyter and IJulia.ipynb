{
 "cells": [
  {
   "cell_type": "markdown",
   "id": "95075a83",
   "metadata": {},
   "source": [
    "# Introduction to Julia Language\n",
    "\n",
    "For the implementation of the practice exercises, there are several options in terms of programming language.  Among the many available options, we will consider the following three languages:\n",
    "\n",
    "* **Matlab** is a scientific programming language with many years of development. It has the advantage of offering a large number of modules (called Toolboxes) for almost any scientific or technical task, along with excellent documentation. This makes it a suitable language for beginners. However, its main disadvantage is that it requires a paid license, which limits its use in many companies. As a result, it is less commonly used than Python in industry.\n",
    "\n",
    "* **Python** is undoubtedly the most widely used language in data science and machine learning. It is modern and simple, with a vast ecosystem of modules and extensive documentation. Although it doesn't quite match Matlab in terms of scientific features or numerical performance, it is free, open-source, and general-purpose. Notably, key deep learning libraries like TensorFlow and PyTorch were first developed for Python, significantly expanding its community. Other machine learning tools, such as Scikit-learn, also make it a strong option. However, since it is not a scientific language by design, numerical efficiency depends on libraries like NumPy, which introduces performance limitations compared to natively vectorized languages.\"\n",
    "\n",
    "* **Julia** is a relatively new scientific programming language developed at MIT. Although its first stable release is only a few years old, it is rapidly evolving. Julia aims to combine the scientific strengths of Matlab with the simplicity and openness of Python, while providing better performance than both. Despite its youth, the number of available packages is growing quickly. However, its community and industry adoption are still smaller compared to Python and Matlab\n",
    "\n",
    "As has been indicated, it is a language that does not yet have a large presence at the enterprise level, however, this is mitigated by three important factors:\n",
    "\n",
    "* Having acquired Python language skills in other subjects, this subject provides an opportunity to learn a scientific language that completes the knowledge.\n",
    "\n",
    "* Several prestigious institutions, such as Berkeley, Stanford, and MIT, recommend and teach Julia due to its fine-grained performance control and suitability for research and experimentation..\n",
    "\n",
    "* Although Python is the most widely used language at the enterprise level, the Scikit-Learn library is also available in Julia.  Learning Julia in this course also strengthens understanding of libraries like Scikit-learn, which are available in both Julia and Python, enabling students to apply their knowledge seamlessly across both languages.\n",
    "\n",
    "## Installation\n",
    "\n",
    "Julia installation is pretty straightforward, whether using precompiled binaries or compiling from source. Download and install Julia by following the instructions at [https://julialang.org/downloads/].\n",
    "\n",
    "> ⚠️ **Older Mac users**: Installing Julia might be troublesome due to deprecated compilers. In case of errors during installation, it might be worth trying to install it via [MacPorts](https://ports.macports.org/port/julia/). After MacPorts [installation](https://www.macports.org/install.php/), Julia can be installed just by `sudo port install julia`.\n",
    "\n",
    "It could be worth to also install jupyter in a local environment to perform some test. This can be done by executing the following command, if you do not have it already installed."
   ]
  },
  {
   "cell_type": "markdown",
   "id": "6a128941",
   "metadata": {},
   "source": [
    "To be executed if needed on the terminal, previous to execute any code here:\n",
    "```bash\n",
    "        pip install notebook\n",
    "```"
   ]
  },
  {
   "cell_type": "markdown",
   "id": "80d0c277",
   "metadata": {},
   "source": [
    "After that installation you can proceed to install the kernel of Julia for jupyter notebook. Simply open a terminal and type `julia`. You should see the following environment \n",
    "\n",
    "![Image of the startup of Julia in the terminal](./img/JuliaTerminal.png \"Julia Terminal\")"
   ]
  },
  {
   "cell_type": "markdown",
   "id": "382e7e24",
   "metadata": {},
   "source": [
    "To add the support for notebooks to should execute the following lines, which we would cover more indeed on the following lines"
   ]
  },
  {
   "cell_type": "markdown",
   "id": "0b1734c0",
   "metadata": {},
   "source": [
    "```julia\n",
    "    using Pkg\n",
    "    Pkg.add(\"IJulia\")\n",
    "    \n",
    "```"
   ]
  },
  {
   "cell_type": "markdown",
   "id": "8f1cb903",
   "metadata": {},
   "source": [
    "This lines load the `Pkg` package, which is used to manage packages in Julia. Here, we are adding the `IJulia` package. Once installed, you can run Julia code inside Jupyter notebooks. The next step is to start Jupyter by executing: \n",
    "```bash\n",
    "    jupyter notebook\n",
    "```\n",
    "Then, you can access the provided URL in your browser to create new notebooks in both Python and Julia.\n",
    "\n",
    "Alternatively, you can launch the notebook interface directly from the Julia REPL with:\n",
    "\n",
    "```julia\n",
    "    using IJulia\n",
    "    notebook()\n",
    "```"
   ]
  },
  {
   "cell_type": "markdown",
   "id": "4aef521a-a399-4f7f-94a6-8911587cd3dc",
   "metadata": {},
   "source": [
    "In this subject, various Julia packages will be used. Some of them, such as Statistics, are included in the standard distribution and can be used directly with:"
   ]
  },
  {
   "cell_type": "code",
   "execution_count": 1,
   "id": "1a2b2cec-92c2-4d73-86d4-38a201878769",
   "metadata": {},
   "outputs": [],
   "source": [
    "using Statistics"
   ]
  },
  {
   "cell_type": "markdown",
   "id": "ed686674-1511-484f-a448-b1ddb5ccff8e",
   "metadata": {},
   "source": [
    "If you only need specific functions from a package, you can import them selectively:"
   ]
  },
  {
   "cell_type": "code",
   "execution_count": 2,
   "id": "47d4efad-eb2b-4b63-83f8-930556ba0882",
   "metadata": {},
   "outputs": [],
   "source": [
    "using Statistics: mean"
   ]
  },
  {
   "cell_type": "markdown",
   "id": "64ff5c91-acef-4d27-82ce-eee22f928cd3",
   "metadata": {},
   "source": [
    "Other packages are not included by default and must be installed manually. Below are some of the packages we will be using:: \n",
    "\n",
    "* FileIO: General interface for file input/output operations. \n",
    "* XLSX: Enables reading data from Excel files. \n",
    "* JLD2: Allows saving and loading Julia variables to/from file (depends on FileIO). \n",
    "* Flux: Provides tools for training Artificial Neural Networks in Julia.\n",
    "* MLJ: Julia implementation of machine most renoun machine learning techniques\n",
    "* ScikitLearn: Julia implementation of the popular Python machine learning library, offering a consistent interface for models and utilities. \n",
    "* Plots: General plotting library in Julia. \n",
    "* MAT: Enables reading MATLAB `.mat` files. \n",
    "* Images: Provides tools for image processing and manipulation. \n",
    "\n",
    "The first time they are used, they are pre-compiled. For example, if your data is stored in an Excel file, you can use the `readdata` function from the XLSX package to load it. "
   ]
  },
  {
   "cell_type": "code",
   "execution_count": 3,
   "id": "2cc17900",
   "metadata": {},
   "outputs": [
    {
     "name": "stderr",
     "output_type": "stream",
     "text": [
      "\u001b[32m\u001b[1m    Updating\u001b[22m\u001b[39m registry at `~/.julia/registries/General.toml`\n",
      "\u001b[32m\u001b[1m   Resolving\u001b[22m\u001b[39m package versions...\n",
      "\u001b[32m\u001b[1m  No Changes\u001b[22m\u001b[39m to `~/.julia/environments/v1.10/Project.toml`\n",
      "\u001b[32m\u001b[1m  No Changes\u001b[22m\u001b[39m to `~/.julia/environments/v1.10/Manifest.toml`\n"
     ]
    }
   ],
   "source": [
    "import Pkg; Pkg.add(\"XLSX\");"
   ]
  },
  {
   "cell_type": "code",
   "execution_count": 4,
   "id": "3e6307ff",
   "metadata": {},
   "outputs": [],
   "source": [
    "using XLSX:readdata"
   ]
  },
  {
   "cell_type": "markdown",
   "id": "976c11b4",
   "metadata": {},
   "source": [
    "## Basic syntax in Julia\n",
    "This section presents some typical operations with two main objectives: first, to serve as a quick reference or cheatsheet; and second, to verify that the previous setup was successful. Many of the examples are based on this [tutorial](https://learnxinyminutes.com/docs/julia/) that can be used as additional reference. "
   ]
  },
  {
   "cell_type": "markdown",
   "id": "2c6078ba",
   "metadata": {},
   "source": [
    "### Types of numbers\n",
    "In Julia, there are several types of numbers. Although during the first practice we will indeep in this question. Here are some examples of different definitions"
   ]
  },
  {
   "cell_type": "code",
   "execution_count": 5,
   "id": "68093cf0",
   "metadata": {},
   "outputs": [
    {
     "data": {
      "text/plain": [
       "Int64"
      ]
     },
     "execution_count": 5,
     "metadata": {},
     "output_type": "execute_result"
    }
   ],
   "source": [
    "typeof(2)"
   ]
  },
  {
   "cell_type": "code",
   "execution_count": 6,
   "id": "d769e217",
   "metadata": {},
   "outputs": [
    {
     "data": {
      "text/plain": [
       "Float64"
      ]
     },
     "execution_count": 6,
     "metadata": {},
     "output_type": "execute_result"
    }
   ],
   "source": [
    "typeof(4.0)"
   ]
  },
  {
   "cell_type": "code",
   "execution_count": 7,
   "id": "40b08f5c",
   "metadata": {},
   "outputs": [
    {
     "data": {
      "text/plain": [
       "Complex{Int64}"
      ]
     },
     "execution_count": 7,
     "metadata": {},
     "output_type": "execute_result"
    }
   ],
   "source": [
    "typeof(1 + 1im)"
   ]
  },
  {
   "cell_type": "code",
   "execution_count": 8,
   "id": "4491f1cc",
   "metadata": {},
   "outputs": [
    {
     "data": {
      "text/plain": [
       "Rational{Int64}"
      ]
     },
     "execution_count": 8,
     "metadata": {},
     "output_type": "execute_result"
    }
   ],
   "source": [
    "typeof(2 // 3)"
   ]
  },
  {
   "cell_type": "code",
   "execution_count": 9,
   "id": "983129fd",
   "metadata": {},
   "outputs": [
    {
     "data": {
      "text/plain": [
       "Real"
      ]
     },
     "execution_count": 9,
     "metadata": {},
     "output_type": "execute_result"
    }
   ],
   "source": [
    "supertype(AbstractFloat)"
   ]
  },
  {
   "cell_type": "code",
   "execution_count": 10,
   "id": "b1e4f8b4",
   "metadata": {},
   "outputs": [
    {
     "data": {
      "text/plain": [
       "Number"
      ]
     },
     "execution_count": 10,
     "metadata": {},
     "output_type": "execute_result"
    }
   ],
   "source": [
    "supertype(Real)"
   ]
  },
  {
   "cell_type": "code",
   "execution_count": 11,
   "id": "b0d551e5",
   "metadata": {},
   "outputs": [
    {
     "data": {
      "text/plain": [
       "Any"
      ]
     },
     "execution_count": 11,
     "metadata": {},
     "output_type": "execute_result"
    }
   ],
   "source": [
    "supertype(Number)"
   ]
  },
  {
   "cell_type": "markdown",
   "id": "54e63c0e",
   "metadata": {},
   "source": [
    "### Boolean Operators\n",
    "Be aware that the negation is performed with `!`"
   ]
  },
  {
   "cell_type": "code",
   "execution_count": 12,
   "id": "13126cf7",
   "metadata": {},
   "outputs": [
    {
     "data": {
      "text/plain": [
       "true"
      ]
     },
     "execution_count": 12,
     "metadata": {},
     "output_type": "execute_result"
    }
   ],
   "source": [
    "(1==1) & !(1!=1)"
   ]
  },
  {
   "cell_type": "markdown",
   "id": "e2522965",
   "metadata": {},
   "source": [
    "### Strings"
   ]
  },
  {
   "cell_type": "code",
   "execution_count": 13,
   "id": "3ef84612",
   "metadata": {},
   "outputs": [
    {
     "data": {
      "text/plain": [
       "String"
      ]
     },
     "execution_count": 13,
     "metadata": {},
     "output_type": "execute_result"
    }
   ],
   "source": [
    "typeof(\"This is a string\")"
   ]
  },
  {
   "cell_type": "code",
   "execution_count": 14,
   "id": "25b37cec",
   "metadata": {},
   "outputs": [
    {
     "data": {
      "text/plain": [
       "true"
      ]
     },
     "execution_count": 14,
     "metadata": {},
     "output_type": "execute_result"
    }
   ],
   "source": [
    "typeof('a') != typeof(\"a\") # the single quote is only for caracters"
   ]
  },
  {
   "cell_type": "code",
   "execution_count": 15,
   "id": "89053a44",
   "metadata": {},
   "outputs": [
    {
     "name": "stdout",
     "output_type": "stream",
     "text": [
      "4 is less than 5.300000"
     ]
    }
   ],
   "source": [
    "using Printf\n",
    "Printf.@printf \"%d is less than %f\" 4.5 5.3"
   ]
  },
  {
   "cell_type": "code",
   "execution_count": 16,
   "id": "6d42148c",
   "metadata": {},
   "outputs": [
    {
     "name": "stdout",
     "output_type": "stream",
     "text": [
      "This is in Julia - 1.10.0\n"
     ]
    }
   ],
   "source": [
    "println(\"This is in Julia - $(VERSION)\")"
   ]
  },
  {
   "cell_type": "markdown",
   "id": "1fbd1e70",
   "metadata": {},
   "source": [
    "### Variable\n",
    "The variable names has to start with a letter, but after that you can use letters, digits, underscores, and exclamation points"
   ]
  },
  {
   "cell_type": "code",
   "execution_count": 17,
   "id": "43259794",
   "metadata": {},
   "outputs": [
    {
     "data": {
      "text/plain": [
       "1"
      ]
     },
     "execution_count": 17,
     "metadata": {},
     "output_type": "execute_result"
    }
   ],
   "source": [
    "xMarksTheSpot2Dig! = 1"
   ]
  },
  {
   "cell_type": "code",
   "execution_count": 18,
   "id": "ef9fb8ac",
   "metadata": {},
   "outputs": [
    {
     "data": {
      "text/plain": [
       "Int64[]"
      ]
     },
     "execution_count": 18,
     "metadata": {},
     "output_type": "execute_result"
    }
   ],
   "source": [
    "a = Int64[]"
   ]
  },
  {
   "cell_type": "code",
   "execution_count": 19,
   "id": "a089bcd9",
   "metadata": {},
   "outputs": [
    {
     "data": {
      "text/plain": [
       "1-element Vector{Int64}:\n",
       " 1"
      ]
     },
     "execution_count": 19,
     "metadata": {},
     "output_type": "execute_result"
    }
   ],
   "source": [
    "push!(a, 1)"
   ]
  },
  {
   "cell_type": "code",
   "execution_count": 20,
   "id": "c9c3ef0b",
   "metadata": {},
   "outputs": [
    {
     "data": {
      "text/plain": [
       "2-element Vector{Int64}:\n",
       " 1\n",
       " 2"
      ]
     },
     "execution_count": 20,
     "metadata": {},
     "output_type": "execute_result"
    }
   ],
   "source": [
    "push!(a, 2)"
   ]
  },
  {
   "cell_type": "code",
   "execution_count": 21,
   "id": "16688242",
   "metadata": {
    "scrolled": true
   },
   "outputs": [
    {
     "data": {
      "text/plain": [
       "3-element Vector{Int64}:\n",
       " 3\n",
       " 4\n",
       " 5"
      ]
     },
     "execution_count": 21,
     "metadata": {},
     "output_type": "execute_result"
    }
   ],
   "source": [
    "b = [3, 4, 5]"
   ]
  },
  {
   "cell_type": "code",
   "execution_count": 22,
   "id": "732d012c",
   "metadata": {},
   "outputs": [
    {
     "data": {
      "text/plain": [
       "3"
      ]
     },
     "execution_count": 22,
     "metadata": {},
     "output_type": "execute_result"
    }
   ],
   "source": [
    "b[1]"
   ]
  },
  {
   "cell_type": "code",
   "execution_count": 23,
   "id": "2a05c39d",
   "metadata": {},
   "outputs": [
    {
     "data": {
      "text/plain": [
       "5"
      ]
     },
     "execution_count": 23,
     "metadata": {},
     "output_type": "execute_result"
    }
   ],
   "source": [
    "b[end]"
   ]
  },
  {
   "cell_type": "code",
   "execution_count": 24,
   "id": "ecc49a0c",
   "metadata": {},
   "outputs": [
    {
     "data": {
      "text/plain": [
       "5-element Vector{Int64}:\n",
       " 1\n",
       " 2\n",
       " 3\n",
       " 4\n",
       " 5"
      ]
     },
     "execution_count": 24,
     "metadata": {},
     "output_type": "execute_result"
    }
   ],
   "source": [
    "append!(a, b)"
   ]
  },
  {
   "cell_type": "code",
   "execution_count": 25,
   "id": "8bb1f306",
   "metadata": {},
   "outputs": [
    {
     "data": {
      "text/plain": [
       "5"
      ]
     },
     "execution_count": 25,
     "metadata": {},
     "output_type": "execute_result"
    }
   ],
   "source": [
    "pop!(a)"
   ]
  },
  {
   "cell_type": "code",
   "execution_count": 26,
   "id": "353b6c94",
   "metadata": {},
   "outputs": [
    {
     "data": {
      "text/plain": [
       "2-element Vector{Int64}:\n",
       " 2\n",
       " 3"
      ]
     },
     "execution_count": 26,
     "metadata": {},
     "output_type": "execute_result"
    }
   ],
   "source": [
    "a[2:3]"
   ]
  },
  {
   "cell_type": "code",
   "execution_count": 27,
   "id": "ca4a26aa",
   "metadata": {},
   "outputs": [
    {
     "data": {
      "text/plain": [
       "true"
      ]
     },
     "execution_count": 27,
     "metadata": {},
     "output_type": "execute_result"
    }
   ],
   "source": [
    "4 in a"
   ]
  },
  {
   "cell_type": "code",
   "execution_count": 28,
   "id": "7ac03623",
   "metadata": {
    "scrolled": true
   },
   "outputs": [
    {
     "data": {
      "text/plain": [
       "4"
      ]
     },
     "execution_count": 28,
     "metadata": {},
     "output_type": "execute_result"
    }
   ],
   "source": [
    "length(a)"
   ]
  },
  {
   "cell_type": "markdown",
   "id": "2a78acf8",
   "metadata": {},
   "source": [
    "### Tuples"
   ]
  },
  {
   "cell_type": "code",
   "execution_count": 29,
   "id": "39028956",
   "metadata": {},
   "outputs": [
    {
     "data": {
      "text/plain": [
       "Tuple{Int64, Int64, Int64}"
      ]
     },
     "execution_count": 29,
     "metadata": {},
     "output_type": "execute_result"
    }
   ],
   "source": [
    "a = (1, 5, 3)\n",
    "typeof(a)"
   ]
  },
  {
   "cell_type": "code",
   "execution_count": 30,
   "id": "ce029a9f",
   "metadata": {},
   "outputs": [
    {
     "data": {
      "text/plain": [
       "5"
      ]
     },
     "execution_count": 30,
     "metadata": {},
     "output_type": "execute_result"
    }
   ],
   "source": [
    "a[2]"
   ]
  },
  {
   "cell_type": "code",
   "execution_count": 31,
   "id": "fddebdd4",
   "metadata": {},
   "outputs": [
    {
     "data": {
      "text/plain": [
       "(1, 2, 3)"
      ]
     },
     "execution_count": 31,
     "metadata": {},
     "output_type": "execute_result"
    }
   ],
   "source": [
    "a, b, c = (1, 2, 3)"
   ]
  },
  {
   "cell_type": "code",
   "execution_count": 32,
   "id": "a863b29d",
   "metadata": {},
   "outputs": [
    {
     "name": "stdout",
     "output_type": "stream",
     "text": [
      " First element is 1, Second is 2, and last is 3\n"
     ]
    }
   ],
   "source": [
    "println(\" First element is $(a), Second is $(b), and last is $(c)\")"
   ]
  },
  {
   "cell_type": "code",
   "execution_count": 33,
   "id": "0cc16427",
   "metadata": {},
   "outputs": [
    {
     "data": {
      "text/plain": [
       "(x = 1, y = 2, z = 3)"
      ]
     },
     "execution_count": 33,
     "metadata": {},
     "output_type": "execute_result"
    }
   ],
   "source": [
    "n = (x=1, y=2, z=3) # use keyword assignments in a tuple to create a NamedTuple"
   ]
  },
  {
   "cell_type": "code",
   "execution_count": 34,
   "id": "17033d10",
   "metadata": {},
   "outputs": [
    {
     "name": "stdout",
     "output_type": "stream",
     "text": [
      " First element is 1, Second is 2, and last is 3\n"
     ]
    }
   ],
   "source": [
    "println(\" First element is $(n.x), Second is $(n.y), and last is $(n.z)\")"
   ]
  },
  {
   "cell_type": "markdown",
   "id": "3911ecd2",
   "metadata": {},
   "source": [
    "### Dictionaries"
   ]
  },
  {
   "cell_type": "code",
   "execution_count": 35,
   "id": "7ee24c7b",
   "metadata": {},
   "outputs": [
    {
     "data": {
      "text/plain": [
       "Dict{String, Int64} with 3 entries:\n",
       "  \"two\"   => 2\n",
       "  \"one\"   => 1\n",
       "  \"three\" => 3"
      ]
     },
     "execution_count": 35,
     "metadata": {},
     "output_type": "execute_result"
    }
   ],
   "source": [
    "d = Dict(\"one\"=>1, \"two\"=>2, \"three\"=>3)"
   ]
  },
  {
   "cell_type": "code",
   "execution_count": 36,
   "id": "d2c68e4c",
   "metadata": {},
   "outputs": [
    {
     "data": {
      "text/plain": [
       "1"
      ]
     },
     "execution_count": 36,
     "metadata": {},
     "output_type": "execute_result"
    }
   ],
   "source": [
    "d[\"one\"]"
   ]
  },
  {
   "cell_type": "code",
   "execution_count": 37,
   "id": "e0392a5e",
   "metadata": {},
   "outputs": [
    {
     "data": {
      "text/plain": [
       "KeySet for a Dict{String, Int64} with 3 entries. Keys:\n",
       "  \"two\"\n",
       "  \"one\"\n",
       "  \"three\""
      ]
     },
     "execution_count": 37,
     "metadata": {},
     "output_type": "execute_result"
    }
   ],
   "source": [
    "keys(d)"
   ]
  },
  {
   "cell_type": "code",
   "execution_count": 38,
   "id": "9bcb33f3",
   "metadata": {},
   "outputs": [
    {
     "data": {
      "text/plain": [
       "ValueIterator for a Dict{String, Int64} with 3 entries. Values:\n",
       "  2\n",
       "  1\n",
       "  3"
      ]
     },
     "execution_count": 38,
     "metadata": {},
     "output_type": "execute_result"
    }
   ],
   "source": [
    "values(d)"
   ]
  },
  {
   "cell_type": "code",
   "execution_count": 39,
   "id": "63dd185d",
   "metadata": {},
   "outputs": [
    {
     "data": {
      "text/plain": [
       "true"
      ]
     },
     "execution_count": 39,
     "metadata": {},
     "output_type": "execute_result"
    }
   ],
   "source": [
    "haskey(d, \"one\")"
   ]
  },
  {
   "cell_type": "markdown",
   "id": "60e4a1cd",
   "metadata": {},
   "source": [
    "### Control Flow"
   ]
  },
  {
   "cell_type": "code",
   "execution_count": 40,
   "id": "ba39b69a",
   "metadata": {},
   "outputs": [
    {
     "name": "stdout",
     "output_type": "stream",
     "text": [
      "Elseif branch is optional\n"
     ]
    }
   ],
   "source": [
    "condition_var = 5\n",
    "\n",
    "# if-then=else\n",
    "# Indentation is not meaningful in Julia.\n",
    "\n",
    "if condition_var > 10\n",
    "    println(\"If branch is mandatory\")\n",
    "elseif condition_var < 10    \n",
    "    println(\"Elseif branch is optional\")\n",
    "else                    \n",
    "    println(\"The else branch os also optional\")\n",
    "end"
   ]
  },
  {
   "cell_type": "code",
   "execution_count": 41,
   "id": "0076c494",
   "metadata": {},
   "outputs": [
    {
     "name": "stdout",
     "output_type": "stream",
     "text": [
      "dog is a mammal\n",
      "cat is a mammal\n",
      "mouse is a mammal\n"
     ]
    }
   ],
   "source": [
    "# The for loop can work on iterables\n",
    "for animal in [\"dog\", \"cat\", \"mouse\"]\n",
    "    println(\"$animal is a mammal\")\n",
    "    # You can use $ to interpolate variables or expression into strings\n",
    "end"
   ]
  },
  {
   "cell_type": "code",
   "execution_count": 42,
   "id": "1bd23712",
   "metadata": {},
   "outputs": [
    {
     "name": "stdout",
     "output_type": "stream",
     "text": [
      "mouse is a mammal\n",
      "cat is a mammal\n",
      "dog is a mammal\n"
     ]
    }
   ],
   "source": [
    "for (k,v) in Dict(\"dog\"=>\"mammal\",\"cat\"=>\"mammal\",\"mouse\"=>\"mammal\")\n",
    "    println(\"$k is a $v\")\n",
    "end"
   ]
  },
  {
   "cell_type": "code",
   "execution_count": 43,
   "id": "643fc957",
   "metadata": {},
   "outputs": [
    {
     "name": "stdout",
     "output_type": "stream",
     "text": [
      "0\n",
      "1\n",
      "2\n",
      "3\n"
     ]
    }
   ],
   "source": [
    "# The while loop\n",
    "x = 0\n",
    "while x < 4\n",
    "    global x # be aware that the variable which is changed is the global one\n",
    "    println(x)\n",
    "    x += 1  # Shorthand for x = x + 1\n",
    "end"
   ]
  },
  {
   "cell_type": "markdown",
   "id": "d1b96491",
   "metadata": {},
   "source": [
    "### Functions"
   ]
  },
  {
   "cell_type": "code",
   "execution_count": 44,
   "id": "69b0e334",
   "metadata": {},
   "outputs": [
    {
     "data": {
      "text/plain": [
       "defaults (generic function with 3 methods)"
      ]
     },
     "execution_count": 44,
     "metadata": {},
     "output_type": "execute_result"
    }
   ],
   "source": [
    "# You can define a function with or without defatult values\n",
    "function defaults(a, b, x=5, y=6)\n",
    "    return \"$a $b and $x $y\"\n",
    "end"
   ]
  },
  {
   "cell_type": "code",
   "execution_count": 45,
   "id": "505aff0f",
   "metadata": {},
   "outputs": [
    {
     "data": {
      "text/plain": [
       "\"h g and j 6\""
      ]
     },
     "execution_count": 45,
     "metadata": {},
     "output_type": "execute_result"
    }
   ],
   "source": [
    "defaults('h', 'g', 'j')  # => \"h g and j 6\""
   ]
  },
  {
   "cell_type": "code",
   "execution_count": 46,
   "id": "8b7c615e",
   "metadata": {},
   "outputs": [
    {
     "name": "stdout",
     "output_type": "stream",
     "text": [
      "MethodError(defaults, ('h',), 0x0000000000007af9)\n"
     ]
    }
   ],
   "source": [
    "try\n",
    "    defaults('h')  # => ERROR: MethodError: no method matching defaults(::Char)\n",
    "catch e\n",
    "    println(e)\n",
    "end"
   ]
  },
  {
   "cell_type": "code",
   "execution_count": 47,
   "id": "653d6b28",
   "metadata": {},
   "outputs": [
    {
     "name": "stdout",
     "output_type": "stream",
     "text": [
      "normal arg: normal\n",
      "optional arg: 2\n",
      "keyword arg: foo\n"
     ]
    }
   ],
   "source": [
    "function all_the_args(normalArg, optionalPositionalArg=2; keywordArg=\"foo\")\n",
    "    println(\"normal arg: $normalArg\")\n",
    "    println(\"optional arg: $optionalPositionalArg\")\n",
    "    println(\"keyword arg: $keywordArg\")\n",
    "end\n",
    "\n",
    "all_the_args(\"normal\")"
   ]
  },
  {
   "cell_type": "code",
   "execution_count": 48,
   "id": "551abb9c",
   "metadata": {},
   "outputs": [
    {
     "data": {
      "text/plain": [
       "4"
      ]
     },
     "execution_count": 48,
     "metadata": {},
     "output_type": "execute_result"
    }
   ],
   "source": [
    "# Lambda expressions\n",
    "(x -> x+1)(3)"
   ]
  },
  {
   "cell_type": "code",
   "execution_count": 49,
   "id": "ac40f9d3",
   "metadata": {},
   "outputs": [
    {
     "data": {
      "text/plain": [
       "create_adder (generic function with 1 method)"
      ]
     },
     "execution_count": 49,
     "metadata": {},
     "output_type": "execute_result"
    }
   ],
   "source": [
    "# Julia has first class functions\n",
    "function create_adder(x)\n",
    "    adder = function (y)\n",
    "        return x + y\n",
    "    end\n",
    "    return adder\n",
    "end"
   ]
  },
  {
   "cell_type": "code",
   "execution_count": 50,
   "id": "9b9efe20",
   "metadata": {},
   "outputs": [
    {
     "data": {
      "text/plain": [
       "create_adder (generic function with 1 method)"
      ]
     },
     "execution_count": 50,
     "metadata": {},
     "output_type": "execute_result"
    }
   ],
   "source": [
    "# This function is identical to create_adder implementation above.\n",
    "function create_adder(x)\n",
    "    y -> x + y\n",
    "end"
   ]
  },
  {
   "cell_type": "code",
   "execution_count": 51,
   "id": "6ce5b189",
   "metadata": {},
   "outputs": [
    {
     "data": {
      "text/plain": [
       "create_adder (generic function with 1 method)"
      ]
     },
     "execution_count": 51,
     "metadata": {},
     "output_type": "execute_result"
    }
   ],
   "source": [
    "# You can also name the internal function, if you want\n",
    "function create_adder(x)\n",
    "    function adder(y)\n",
    "        x + y\n",
    "    end\n",
    "    adder\n",
    "end"
   ]
  },
  {
   "cell_type": "code",
   "execution_count": 52,
   "id": "e230520e",
   "metadata": {},
   "outputs": [
    {
     "data": {
      "text/plain": [
       "3-element Vector{Int64}:\n",
       " 11\n",
       " 12\n",
       " 13"
      ]
     },
     "execution_count": 52,
     "metadata": {},
     "output_type": "execute_result"
    }
   ],
   "source": [
    "f = create_adder(10)\n",
    "map(f, [1,2,3])"
   ]
  },
  {
   "cell_type": "code",
   "execution_count": 53,
   "id": "63030e98",
   "metadata": {},
   "outputs": [
    {
     "data": {
      "text/plain": [
       "2-element Vector{Int64}:\n",
       " 6\n",
       " 7"
      ]
     },
     "execution_count": 53,
     "metadata": {},
     "output_type": "execute_result"
    }
   ],
   "source": [
    "filter(x -> x > 5, [3, 4, 5, 6, 7])"
   ]
  },
  {
   "cell_type": "code",
   "execution_count": 54,
   "id": "d2183d64",
   "metadata": {},
   "outputs": [
    {
     "data": {
      "text/plain": [
       "3-element Vector{Int64}:\n",
       " 11\n",
       " 12\n",
       " 13"
      ]
     },
     "execution_count": 54,
     "metadata": {},
     "output_type": "execute_result"
    }
   ],
   "source": [
    "[f(i) for i in [1, 2, 3]]"
   ]
  },
  {
   "cell_type": "markdown",
   "id": "8f10172b",
   "metadata": {},
   "source": [
    "### Composite Types\n",
    "Julia allows you to define new composite types (similar to structs or classes in other languages). These types can be part of a hierarchy, enabling method inheritance and supporting multiple dispatch. "
   ]
  },
  {
   "cell_type": "code",
   "execution_count": 55,
   "id": "f0e7c9ec",
   "metadata": {},
   "outputs": [
    {
     "data": {
      "text/plain": [
       "Any[]"
      ]
     },
     "execution_count": 55,
     "metadata": {},
     "output_type": "execute_result"
    }
   ],
   "source": [
    "abstract type Cat end # just a name and point in the type hierarchy\n",
    "subtypes(Cat)"
   ]
  },
  {
   "cell_type": "code",
   "execution_count": 56,
   "id": "6d7392f8",
   "metadata": {},
   "outputs": [
    {
     "data": {
      "text/plain": [
       "2-element Vector{Any}:\n",
       " Lion\n",
       " Panther"
      ]
     },
     "execution_count": 56,
     "metadata": {},
     "output_type": "execute_result"
    }
   ],
   "source": [
    "# <: is the subtyping operator\n",
    "struct Lion <: Cat # Lion is a subtype of Cat\n",
    "    mane_color\n",
    "    roar::String\n",
    "end\n",
    "\n",
    "struct Panther <: Cat # Panther is also a subtype of Cat\n",
    "  eye_color\n",
    "  Panther() = new(\"green\")\n",
    "  # Panthers will only have this constructor, and no default constructor.\n",
    "end\n",
    "\n",
    "# Also it is not required to inheritance anything\n",
    "struct Tiger\n",
    "  taillength::Float64\n",
    "  coatcolor # not including a type annotation is the same as `::Any`\n",
    "end\n",
    "\n",
    "subtypes(Cat)"
   ]
  },
  {
   "cell_type": "code",
   "execution_count": 57,
   "id": "cdba4397",
   "metadata": {},
   "outputs": [
    {
     "data": {
      "text/plain": [
       "voice (generic function with 3 methods)"
      ]
     },
     "execution_count": 57,
     "metadata": {},
     "output_type": "execute_result"
    }
   ],
   "source": [
    "function voice(animal::Lion)\n",
    "  animal.roar # access type properties using dot notation\n",
    "end\n",
    "\n",
    "function voice(animal::Panther)\n",
    "  \"grrr\"\n",
    "end\n",
    "\n",
    "function voice(animal::Tiger)\n",
    "  \"rawwwr\"\n",
    "end"
   ]
  },
  {
   "cell_type": "code",
   "execution_count": 58,
   "id": "0c6d5461",
   "metadata": {},
   "outputs": [
    {
     "name": "stdout",
     "output_type": "stream",
     "text": [
      "The Tiger says rawwwr\n",
      "The Lion says ROAAAR\n",
      "The Lion says grrr\n"
     ]
    }
   ],
   "source": [
    "println(\"The Tiger says $(voice(Tiger(3.5,\"orange\")))\")\n",
    "println(\"The Lion says $(voice(Lion(\"brown\",\"ROAAAR\")))\")\n",
    "println(\"The Lion says $(voice(Panther()))\")"
   ]
  },
  {
   "cell_type": "markdown",
   "id": "56aa2e90",
   "metadata": {},
   "source": [
    "### Native Code"
   ]
  },
  {
   "cell_type": "code",
   "execution_count": 59,
   "id": "91dbab59",
   "metadata": {},
   "outputs": [
    {
     "data": {
      "text/plain": [
       "Add (generic function with 1 method)"
      ]
     },
     "execution_count": 59,
     "metadata": {},
     "output_type": "execute_result"
    }
   ],
   "source": [
    "Add(x, y) = x + y"
   ]
  },
  {
   "cell_type": "code",
   "execution_count": 60,
   "id": "ee470fd9",
   "metadata": {},
   "outputs": [
    {
     "data": {
      "text/plain": [
       "9"
      ]
     },
     "execution_count": 60,
     "metadata": {},
     "output_type": "execute_result"
    }
   ],
   "source": [
    "Add(4,5)"
   ]
  },
  {
   "cell_type": "code",
   "execution_count": 61,
   "id": "eb1a7277",
   "metadata": {},
   "outputs": [
    {
     "name": "stdout",
     "output_type": "stream",
     "text": [
      "\t\u001b[0m.text\n",
      "\t\u001b[0m.file\t\u001b[0m\"Add\"\n",
      "\t\u001b[0m.globl\t\u001b[0mjulia_Add_1923                  \u001b[90m# -- Begin function julia_Add_1923\u001b[39m\n",
      "\t\u001b[0m.p2align\t\u001b[33m4\u001b[39m\u001b[0m, \u001b[33m0x90\u001b[39m\n",
      "\t\u001b[0m.type\t\u001b[0mjulia_Add_1923\u001b[0m,\u001b[0m@function\n",
      "\u001b[91mjulia_Add_1923:\u001b[39m                         \u001b[90m# @julia_Add_1923\u001b[39m\n",
      "\u001b[90m; ┌ @ In[59]:1 within `Add`\u001b[39m\n",
      "\u001b[90m# %bb.0:                                # %top\u001b[39m\n",
      "\t\u001b[96m\u001b[1mpush\u001b[22m\u001b[39m\t\u001b[0mrbp\n",
      "\t\u001b[96m\u001b[1mmov\u001b[22m\u001b[39m\t\u001b[0mrbp\u001b[0m, \u001b[0mrsp\n",
      "                                        \u001b[90m# kill: def $esi killed $esi def $rsi\u001b[39m\n",
      "                                        \u001b[90m# kill: def $edi killed $edi def $rdi\u001b[39m\n",
      "\u001b[90m; │┌ @ int.jl:87 within `+`\u001b[39m\n",
      "\t\u001b[96m\u001b[1mlea\u001b[22m\u001b[39m\t\u001b[0meax\u001b[0m, \u001b[33m[\u001b[39m\u001b[0mrdi \u001b[0m+ \u001b[0mrsi\u001b[33m]\u001b[39m\n",
      "\u001b[90m; │└\u001b[39m\n",
      "\t\u001b[96m\u001b[1mpop\u001b[22m\u001b[39m\t\u001b[0mrbp\n",
      "\t\u001b[96m\u001b[1mret\u001b[22m\u001b[39m\n",
      "\u001b[91m.Lfunc_end0:\u001b[39m\n",
      "\t\u001b[0m.size\t\u001b[0mjulia_Add_1923\u001b[0m, \u001b[0m.Lfunc_end0-julia_Add_1923\n",
      "\u001b[90m; └\u001b[39m\n",
      "                                        \u001b[90m# -- End function\u001b[39m\n",
      "\t\u001b[0m.section\t\u001b[0m\".note.GNU-stack\"\u001b[0m,\u001b[0m\"\"\u001b[0m,\u001b[0m@progbits\n"
     ]
    }
   ],
   "source": [
    "code_native(Add, (Int32,Int32), syntax = :intel)"
   ]
  },
  {
   "cell_type": "code",
   "execution_count": 62,
   "id": "2a9a527d",
   "metadata": {},
   "outputs": [
    {
     "name": "stdout",
     "output_type": "stream",
     "text": [
      "\t\u001b[0m.text\n",
      "\t\u001b[0m.file\t\u001b[0m\"Add\"\n",
      "\t\u001b[0m.globl\t\u001b[0mjulia_Add_1946                  \u001b[90m# -- Begin function julia_Add_1946\u001b[39m\n",
      "\t\u001b[0m.p2align\t\u001b[33m4\u001b[39m\u001b[0m, \u001b[33m0x90\u001b[39m\n",
      "\t\u001b[0m.type\t\u001b[0mjulia_Add_1946\u001b[0m,\u001b[0m@function\n",
      "\u001b[91mjulia_Add_1946:\u001b[39m                         \u001b[90m# @julia_Add_1946\u001b[39m\n",
      "\u001b[90m; ┌ @ In[59]:1 within `Add`\u001b[39m\n",
      "\u001b[90m# %bb.0:                                # %top\u001b[39m\n",
      "\t\u001b[96m\u001b[1mpush\u001b[22m\u001b[39m\t\u001b[0mrbp\n",
      "\t\u001b[96m\u001b[1mmov\u001b[22m\u001b[39m\t\u001b[0mrbp\u001b[0m, \u001b[0mrsp\n",
      "\u001b[90m; │┌ @ float.jl:409 within `+`\u001b[39m\n",
      "\t\u001b[96m\u001b[1mvaddss\u001b[22m\u001b[39m\t\u001b[0mxmm0\u001b[0m, \u001b[0mxmm0\u001b[0m, \u001b[0mxmm1\n",
      "\u001b[90m; │└\u001b[39m\n",
      "\t\u001b[96m\u001b[1mpop\u001b[22m\u001b[39m\t\u001b[0mrbp\n",
      "\t\u001b[96m\u001b[1mret\u001b[22m\u001b[39m\n",
      "\u001b[91m.Lfunc_end0:\u001b[39m\n",
      "\t\u001b[0m.size\t\u001b[0mjulia_Add_1946\u001b[0m, \u001b[0m.Lfunc_end0-julia_Add_1946\n",
      "\u001b[90m; └\u001b[39m\n",
      "                                        \u001b[90m# -- End function\u001b[39m\n",
      "\t\u001b[0m.section\t\u001b[0m\".note.GNU-stack\"\u001b[0m,\u001b[0m\"\"\u001b[0m,\u001b[0m@progbits\n"
     ]
    }
   ],
   "source": [
    "code_native(Add, (Float32,Float32), syntax = :intel)"
   ]
  },
  {
   "cell_type": "code",
   "execution_count": 63,
   "id": "db517a1e",
   "metadata": {},
   "outputs": [
    {
     "name": "stdout",
     "output_type": "stream",
     "text": [
      "\u001b[90m;  @ In[59]:1 within `Add`\u001b[39m\n",
      "\u001b[95mdefine\u001b[39m \u001b[36mi32\u001b[39m \u001b[93m@julia_Add_1978\u001b[39m\u001b[33m(\u001b[39m\u001b[36mi32\u001b[39m \u001b[95msignext\u001b[39m \u001b[0m%0\u001b[0m, \u001b[36mi32\u001b[39m \u001b[95msignext\u001b[39m \u001b[0m%1\u001b[33m)\u001b[39m \u001b[0m#0 \u001b[33m{\u001b[39m\n",
      "\u001b[91mtop:\u001b[39m\n",
      "\u001b[90m; ┌ @ int.jl:87 within `+`\u001b[39m\n",
      "   \u001b[0m%2 \u001b[0m= \u001b[96m\u001b[1madd\u001b[22m\u001b[39m \u001b[36mi32\u001b[39m \u001b[0m%1\u001b[0m, \u001b[0m%0\n",
      "\u001b[90m; └\u001b[39m\n",
      "  \u001b[96m\u001b[1mret\u001b[22m\u001b[39m \u001b[36mi32\u001b[39m \u001b[0m%2\n",
      "\u001b[33m}\u001b[39m\n"
     ]
    }
   ],
   "source": [
    "code_llvm(Add, (Int32,Int32))"
   ]
  },
  {
   "cell_type": "markdown",
   "id": "17598349-dc3a-4814-90a7-1a8a0bc06480",
   "metadata": {},
   "source": [
    "## Julia Environments\n",
    "\n",
    "### What is a Julia environment (a.k.a. project)?\n",
    "\n",
    "In Julia, an **environment** (also commonly called a **project**) is a workspace that defines its own set of packages and versions.  \n",
    "This ensures that your code runs with the exact dependencies you specify — independently of what is installed globally or in other projects.\n",
    "\n",
    "If you're familiar with **Python**, this is very similar to using `venv`, `conda`, or `poetry`.  \n",
    "In **R**, it's similar to using `renv` or `packrat`.\n",
    "\n",
    "Environments in Julia are defined by two key files:\n",
    "\n",
    "- `Project.toml`: lists your direct dependencies.\n",
    "- `Manifest.toml`: records the exact versions of all packages (including transitive dependencies).\n",
    "\n",
    "> 📁 Any folder with a `Project.toml` is considered a **Julia project**.\n",
    "\n",
    "```\n",
    " my_project/\n",
    " ├── Project.toml\n",
    " ├── Manifest.toml\n",
    " └── notebook.ipynb\n",
    "```\n",
    "\n",
    "---\n",
    "\n",
    "### 🔄 Comparison with other ecosystems\n",
    "\n",
    "| Feature                  | **Julia**                          | **Python**                          | **R**                          |\n",
    "|--------------------------|------------------------------------|-------------------------------------|--------------------------------|\n",
    "| Environment name         | Environment / Project              | Virtual environment (`venv`, `conda`) | Project / renv environment    |\n",
    "| Dependency list file     | `Project.toml`                     | `requirements.txt` / `pyproject.toml` | `renv.lock` / `DESCRIPTION`   |\n",
    "| Full version lock file   | `Manifest.toml`                    | `poetry.lock` / `Pipfile.lock`      | `renv.lock` / `.Rprofile`     |\n",
    "| Activation               | `Pkg.activate(\"path\")`             | `source venv/bin/activate` or `conda activate` | `renv::activate()`         |\n",
    "| Install package          | `Pkg.add(\"PkgName\")`               | `pip install PkgName`               | `install.packages(\"PkgName\")` |\n",
    "| Isolation                | ✔ Per project                      | ✔ Per virtualenv/conda              | ✔ Per project                 |\n",
    "\n",
    "---\n",
    "\n",
    "Using environments is essential for:\n",
    "\n",
    "- Keeping dependencies organized and isolated\n",
    "- Reproducing your results\n",
    "- Collaborating safely across different machines or teammates\n",
    "\n",
    "In the next sections, you'll learn how to create and activate a Julia environment for your notebooks."
   ]
  },
  {
   "cell_type": "markdown",
   "id": "baa5389c-95b1-4b42-bcc0-8afd7962519b",
   "metadata": {},
   "source": [
    "### Why use environments in Julia?\n",
    "\n",
    "In Julia, managing dependencies properly is essential to avoid version conflicts and ensure reproducibility.\n",
    "\n",
    "By default, when you install a package, it is added to your **global environment**, which is shared across all projects.  \n",
    "This can lead to incompatibilities when different projects require different versions of the same package.\n",
    "\n",
    "The recommended solution is to use ***project-specific environments***, which isolate dependencies per notebook or application.\n",
    "\n",
    "### Creating a new project\n",
    "\n",
    "You can create a new environment by opening Julia and running the following in the REPL:\n",
    "\n",
    "```julia\n",
    "] activate .\n",
    "] instantiate\n",
    "```\n",
    "* `activate .` tells Julia to create or activate a project in the current folder.\n",
    "\n",
    "* If a `Project.toml` does not exist, it will be created automatically.\n",
    "\n",
    "* `instantiate` installs the packages listed in Project.toml and Manifest.toml.\n",
    "\n",
    "📝 It’s a good practice to run your notebooks inside such a folder and activate the environment at the top of the notebook.\n",
    "\n",
    "### Activating environments in Jupyter notebooks\n",
    "\n",
    "At the top of your notebook, add the following code:"
   ]
  },
  {
   "cell_type": "code",
   "execution_count": 64,
   "id": "1bf35024-02ab-4ff5-83c5-677379c466a2",
   "metadata": {},
   "outputs": [
    {
     "name": "stderr",
     "output_type": "stream",
     "text": [
      "\u001b[32m\u001b[1m  Activating\u001b[22m\u001b[39m new project at `~/work`\n"
     ]
    }
   ],
   "source": [
    "using Pkg\n",
    "Pkg.activate(\".\")"
   ]
  },
  {
   "cell_type": "markdown",
   "id": "d16bb2fd-7d42-413c-864b-0d96912c789d",
   "metadata": {},
   "source": [
    "You only need to activate the environment once per session. After that, any `Pkg.add(...)` call will install packages into this environment only.\n",
    "\n",
    "### Adding and removing packages\n",
    "\n",
    "To add a package:"
   ]
  },
  {
   "cell_type": "code",
   "execution_count": null,
   "id": "dcf5fa62-cab9-4c6a-bd0a-5945ef81912d",
   "metadata": {},
   "outputs": [
    {
     "name": "stderr",
     "output_type": "stream",
     "text": [
      "\u001b[32m\u001b[1m   Resolving\u001b[22m\u001b[39m package versions...\n",
      "\u001b[32m\u001b[1m   Installed\u001b[22m\u001b[39m StructUtils ──── v2.5.0\n",
      "\u001b[32m\u001b[1m   Installed\u001b[22m\u001b[39m StatsBase ────── v0.34.6\n",
      "\u001b[32m\u001b[1m   Installed\u001b[22m\u001b[39m DataStructures ─ v0.19.1\n",
      "\u001b[32m\u001b[1m   Installed\u001b[22m\u001b[39m JSON ─────────── v1.0.0\n",
      "\u001b[32m\u001b[1m    Updating\u001b[22m\u001b[39m `~/work/Project.toml`\n",
      "  \u001b[90m[91a5bcdd] \u001b[39m\u001b[92m+ Plots v1.41.1\u001b[39m\n",
      "\u001b[32m\u001b[1m    Updating\u001b[22m\u001b[39m `~/work/Manifest.toml`\n",
      "  \u001b[90m[66dad0bd] \u001b[39m\u001b[92m+ AliasTables v1.1.3\u001b[39m\n",
      "  \u001b[90m[d1d4a3ce] \u001b[39m\u001b[92m+ BitFlags v0.1.9\u001b[39m\n",
      "  \u001b[90m[944b1d66] \u001b[39m\u001b[92m+ CodecZlib v0.7.8\u001b[39m\n",
      "  \u001b[90m[35d6a980] \u001b[39m\u001b[92m+ ColorSchemes v3.31.0\u001b[39m\n",
      "  \u001b[90m[3da002f7] \u001b[39m\u001b[92m+ ColorTypes v0.12.1\u001b[39m\n",
      "  \u001b[90m[c3611d14] \u001b[39m\u001b[92m+ ColorVectorSpace v0.11.0\u001b[39m\n",
      "  \u001b[90m[5ae59095] \u001b[39m\u001b[92m+ Colors v0.13.1\u001b[39m\n",
      "  \u001b[90m[f0e56b4a] \u001b[39m\u001b[92m+ ConcurrentUtilities v2.5.0\u001b[39m\n",
      "  \u001b[90m[d38c429a] \u001b[39m\u001b[92m+ Contour v0.6.3\u001b[39m\n",
      "  \u001b[90m[9a962f9c] \u001b[39m\u001b[92m+ DataAPI v1.16.0\u001b[39m\n",
      "  \u001b[90m[864edb3b] \u001b[39m\u001b[92m+ DataStructures v0.19.1\u001b[39m\n",
      "  \u001b[90m[8bb1440f] \u001b[39m\u001b[92m+ DelimitedFiles v1.9.1\u001b[39m\n",
      "  \u001b[90m[ffbed154] \u001b[39m\u001b[92m+ DocStringExtensions v0.9.5\u001b[39m\n",
      "  \u001b[90m[460bff9d] \u001b[39m\u001b[92m+ ExceptionUnwrapping v0.1.11\u001b[39m\n",
      "  \u001b[90m[c87230d0] \u001b[39m\u001b[92m+ FFMPEG v0.4.4\u001b[39m\n",
      "  \u001b[90m[53c48c17] \u001b[39m\u001b[92m+ FixedPointNumbers v0.8.5\u001b[39m\n",
      "  \u001b[90m[1fa38f19] \u001b[39m\u001b[92m+ Format v1.3.7\u001b[39m\n",
      "  \u001b[90m[28b8d3ca] \u001b[39m\u001b[92m+ GR v0.73.17\u001b[39m\n",
      "  \u001b[90m[42e2da0e] \u001b[39m\u001b[92m+ Grisu v1.0.2\u001b[39m\n",
      "  \u001b[90m[cd3eb016] \u001b[39m\u001b[92m+ HTTP v1.10.18\u001b[39m\n",
      "  \u001b[90m[92d709cd] \u001b[39m\u001b[92m+ IrrationalConstants v0.2.4\u001b[39m\n",
      "  \u001b[90m[1019f520] \u001b[39m\u001b[92m+ JLFzf v0.1.11\u001b[39m\n",
      "  \u001b[90m[692b3bcd] \u001b[39m\u001b[92m+ JLLWrappers v1.7.1\u001b[39m\n",
      "  \u001b[90m[682c06a0] \u001b[39m\u001b[92m+ JSON v1.0.0\u001b[39m\n",
      "  \u001b[90m[b964fa9f] \u001b[39m\u001b[92m+ LaTeXStrings v1.4.0\u001b[39m\n",
      "  \u001b[90m[23fbe1c1] \u001b[39m\u001b[92m+ Latexify v0.16.10\u001b[39m\n",
      "  \u001b[90m[2ab3a3ac] \u001b[39m\u001b[92m+ LogExpFunctions v0.3.29\u001b[39m\n",
      "  \u001b[90m[e6f89c97] \u001b[39m\u001b[92m+ LoggingExtras v1.2.0\u001b[39m\n",
      "  \u001b[90m[1914dd2f] \u001b[39m\u001b[92m+ MacroTools v0.5.16\u001b[39m\n",
      "  \u001b[90m[739be429] \u001b[39m\u001b[92m+ MbedTLS v1.1.9\u001b[39m\n",
      "  \u001b[90m[442fdcdd] \u001b[39m\u001b[92m+ Measures v0.3.2\u001b[39m\n",
      "  \u001b[90m[e1d29d7a] \u001b[39m\u001b[92m+ Missings v1.2.0\u001b[39m\n",
      "  \u001b[90m[77ba4419] \u001b[39m\u001b[92m+ NaNMath v1.1.3\u001b[39m\n",
      "  \u001b[90m[4d8831e6] \u001b[39m\u001b[92m+ OpenSSL v1.5.0\u001b[39m\n",
      "  \u001b[90m[bac558e1] \u001b[39m\u001b[92m+ OrderedCollections v1.8.1\u001b[39m\n",
      "  \u001b[90m[69de0a69] \u001b[39m\u001b[92m+ Parsers v2.8.3\u001b[39m\n",
      "  \u001b[90m[ccf2f8ad] \u001b[39m\u001b[92m+ PlotThemes v3.3.0\u001b[39m\n",
      "  \u001b[90m[995b91a9] \u001b[39m\u001b[92m+ PlotUtils v1.4.3\u001b[39m\n",
      "  \u001b[90m[91a5bcdd] \u001b[39m\u001b[92m+ Plots v1.41.1\u001b[39m\n",
      "\u001b[33m⌅\u001b[39m \u001b[90m[aea7be01] \u001b[39m\u001b[92m+ PrecompileTools v1.2.1\u001b[39m\n",
      "  \u001b[90m[21216c6a] \u001b[39m\u001b[92m+ Preferences v1.5.0\u001b[39m\n",
      "  \u001b[90m[43287f4e] \u001b[39m\u001b[92m+ PtrArrays v1.3.0\u001b[39m\n",
      "  \u001b[90m[3cdcf5f2] \u001b[39m\u001b[92m+ RecipesBase v1.3.4\u001b[39m\n",
      "  \u001b[90m[01d81517] \u001b[39m\u001b[92m+ RecipesPipeline v0.6.12\u001b[39m\n",
      "  \u001b[90m[189a3867] \u001b[39m\u001b[92m+ Reexport v1.2.2\u001b[39m\n",
      "  \u001b[90m[05181044] \u001b[39m\u001b[92m+ RelocatableFolders v1.0.1\u001b[39m\n",
      "  \u001b[90m[ae029012] \u001b[39m\u001b[92m+ Requires v1.3.1\u001b[39m\n",
      "  \u001b[90m[6c6a2e73] \u001b[39m\u001b[92m+ Scratch v1.3.0\u001b[39m\n",
      "  \u001b[90m[992d4aef] \u001b[39m\u001b[92m+ Showoff v1.0.3\u001b[39m\n",
      "  \u001b[90m[777ac1f9] \u001b[39m\u001b[92m+ SimpleBufferStream v1.2.0\u001b[39m\n",
      "  \u001b[90m[a2af1166] \u001b[39m\u001b[92m+ SortingAlgorithms v1.2.2\u001b[39m\n",
      "  \u001b[90m[860ef19b] \u001b[39m\u001b[92m+ StableRNGs v1.0.3\u001b[39m\n",
      "  \u001b[90m[82ae8749] \u001b[39m\u001b[92m+ StatsAPI v1.7.1\u001b[39m\n",
      "  \u001b[90m[2913bbd2] \u001b[39m\u001b[92m+ StatsBase v0.34.6\u001b[39m\n",
      "  \u001b[90m[ec057cc2] \u001b[39m\u001b[92m+ StructUtils v2.5.0\u001b[39m\n",
      "  \u001b[90m[62fd8b95] \u001b[39m\u001b[92m+ TensorCore v0.1.1\u001b[39m\n",
      "  \u001b[90m[3bb67fe8] \u001b[39m\u001b[92m+ TranscodingStreams v0.11.3\u001b[39m\n",
      "  \u001b[90m[5c2747f8] \u001b[39m\u001b[92m+ URIs v1.6.1\u001b[39m\n",
      "  \u001b[90m[1cfade01] \u001b[39m\u001b[92m+ UnicodeFun v0.4.1\u001b[39m\n",
      "  \u001b[90m[41fe7b60] \u001b[39m\u001b[92m+ Unzip v0.2.0\u001b[39m\n",
      "  \u001b[90m[6e34b625] \u001b[39m\u001b[92m+ Bzip2_jll v1.0.9+0\u001b[39m\n",
      "  \u001b[90m[83423d85] \u001b[39m\u001b[92m+ Cairo_jll v1.18.5+0\u001b[39m\n",
      "  \u001b[90m[ee1fde0b] \u001b[39m\u001b[92m+ Dbus_jll v1.16.2+0\u001b[39m\n",
      "  \u001b[90m[2702e6a9] \u001b[39m\u001b[92m+ EpollShim_jll v0.0.20230411+1\u001b[39m\n",
      "  \u001b[90m[2e619515] \u001b[39m\u001b[92m+ Expat_jll v2.7.1+0\u001b[39m\n",
      "  \u001b[90m[b22a6f82] \u001b[39m\u001b[92m+ FFMPEG_jll v7.1.1+0\u001b[39m\n",
      "  \u001b[90m[a3f928ae] \u001b[39m\u001b[92m+ Fontconfig_jll v2.17.1+0\u001b[39m\n",
      "  \u001b[90m[d7e528f0] \u001b[39m\u001b[92m+ FreeType2_jll v2.13.4+0\u001b[39m\n",
      "  \u001b[90m[559328eb] \u001b[39m\u001b[92m+ FriBidi_jll v1.0.17+0\u001b[39m\n",
      "  \u001b[90m[0656b61e] \u001b[39m\u001b[92m+ GLFW_jll v3.4.0+2\u001b[39m\n",
      "  \u001b[90m[d2c73de3] \u001b[39m\u001b[92m+ GR_jll v0.73.17+0\u001b[39m\n",
      "  \u001b[90m[b0724c58] \u001b[39m\u001b[92m+ GettextRuntime_jll v0.22.4+0\u001b[39m\n",
      "  \u001b[90m[61579ee1] \u001b[39m\u001b[92m+ Ghostscript_jll v9.55.1+0\u001b[39m\n",
      "  \u001b[90m[7746bdde] \u001b[39m\u001b[92m+ Glib_jll v2.86.0+0\u001b[39m\n",
      "  \u001b[90m[3b182d85] \u001b[39m\u001b[92m+ Graphite2_jll v1.3.15+0\u001b[39m\n",
      "  \u001b[90m[2e76f6c2] \u001b[39m\u001b[92m+ HarfBuzz_jll v8.5.1+0\u001b[39m\n",
      "  \u001b[90m[aacddb02] \u001b[39m\u001b[92m+ JpegTurbo_jll v3.1.3+0\u001b[39m\n",
      "  \u001b[90m[c1c5ebd0] \u001b[39m\u001b[92m+ LAME_jll v3.100.3+0\u001b[39m\n",
      "  \u001b[90m[88015f11] \u001b[39m\u001b[92m+ LERC_jll v4.0.1+0\u001b[39m\n",
      "  \u001b[90m[1d63c593] \u001b[39m\u001b[92m+ LLVMOpenMP_jll v18.1.8+0\u001b[39m\n",
      "  \u001b[90m[dd4b983a] \u001b[39m\u001b[92m+ LZO_jll v2.10.3+0\u001b[39m\n",
      "  \u001b[90m[e9f186c6] \u001b[39m\u001b[92m+ Libffi_jll v3.4.7+0\u001b[39m\n",
      "  \u001b[90m[7e76a0d4] \u001b[39m\u001b[92m+ Libglvnd_jll v1.7.1+1\u001b[39m\n",
      "  \u001b[90m[94ce4f54] \u001b[39m\u001b[92m+ Libiconv_jll v1.18.0+0\u001b[39m\n",
      "  \u001b[90m[4b2f31a3] \u001b[39m\u001b[92m+ Libmount_jll v2.41.2+0\u001b[39m\n",
      "  \u001b[90m[89763e89] \u001b[39m\u001b[92m+ Libtiff_jll v4.7.2+0\u001b[39m\n",
      "  \u001b[90m[38a345b3] \u001b[39m\u001b[92m+ Libuuid_jll v2.41.2+0\u001b[39m\n",
      "  \u001b[90m[e7412a2a] \u001b[39m\u001b[92m+ Ogg_jll v1.3.6+0\u001b[39m\n",
      "  \u001b[90m[458c3c95] \u001b[39m\u001b[92m+ OpenSSL_jll v3.5.4+0\u001b[39m\n",
      "  \u001b[90m[91d4177d] \u001b[39m\u001b[92m+ Opus_jll v1.5.2+0\u001b[39m\n",
      "  \u001b[90m[36c8627f] \u001b[39m\u001b[92m+ Pango_jll v1.56.4+0\u001b[39m\n",
      "\u001b[33m⌅\u001b[39m \u001b[90m[30392449] \u001b[39m\u001b[92m+ Pixman_jll v0.44.2+0\u001b[39m\n",
      "  \u001b[90m[c0090381] \u001b[39m\u001b[92m+ Qt6Base_jll v6.8.2+1\u001b[39m\n",
      "  \u001b[90m[629bc702] \u001b[39m\u001b[92m+ Qt6Declarative_jll v6.8.2+1\u001b[39m\n",
      "  \u001b[90m[ce943373] \u001b[39m\u001b[92m+ Qt6ShaderTools_jll v6.8.2+1\u001b[39m\n",
      "  \u001b[90m[e99dba38] \u001b[39m\u001b[92m+ Qt6Wayland_jll v6.8.2+1\u001b[39m\n",
      "  \u001b[90m[a44049a8] \u001b[39m\u001b[92m+ Vulkan_Loader_jll v1.3.243+0\u001b[39m\n",
      "  \u001b[90m[a2964d1f] \u001b[39m\u001b[92m+ Wayland_jll v1.24.0+0\u001b[39m\n",
      "  \u001b[90m[ffd25f8a] \u001b[39m\u001b[92m+ XZ_jll v5.8.1+0\u001b[39m\n",
      "  \u001b[90m[f67eecfb] \u001b[39m\u001b[92m+ Xorg_libICE_jll v1.1.2+0\u001b[39m\n",
      "  \u001b[90m[c834827a] \u001b[39m\u001b[92m+ Xorg_libSM_jll v1.2.6+0\u001b[39m\n",
      "  \u001b[90m[4f6342f7] \u001b[39m\u001b[92m+ Xorg_libX11_jll v1.8.12+0\u001b[39m\n",
      "  \u001b[90m[0c0b7dd1] \u001b[39m\u001b[92m+ Xorg_libXau_jll v1.0.13+0\u001b[39m\n",
      "  \u001b[90m[935fb764] \u001b[39m\u001b[92m+ Xorg_libXcursor_jll v1.2.4+0\u001b[39m\n",
      "  \u001b[90m[a3789734] \u001b[39m\u001b[92m+ Xorg_libXdmcp_jll v1.1.6+0\u001b[39m\n",
      "  \u001b[90m[1082639a] \u001b[39m\u001b[92m+ Xorg_libXext_jll v1.3.7+0\u001b[39m\n",
      "  \u001b[90m[d091e8ba] \u001b[39m\u001b[92m+ Xorg_libXfixes_jll v6.0.2+0\u001b[39m\n",
      "  \u001b[90m[a51aa0fd] \u001b[39m\u001b[92m+ Xorg_libXi_jll v1.8.3+0\u001b[39m\n",
      "  \u001b[90m[d1454406] \u001b[39m\u001b[92m+ Xorg_libXinerama_jll v1.1.6+0\u001b[39m\n",
      "  \u001b[90m[ec84b674] \u001b[39m\u001b[92m+ Xorg_libXrandr_jll v1.5.5+0\u001b[39m\n",
      "  \u001b[90m[ea2f1a96] \u001b[39m\u001b[92m+ Xorg_libXrender_jll v0.9.12+0\u001b[39m\n",
      "  \u001b[90m[c7cfdc94] \u001b[39m\u001b[92m+ Xorg_libxcb_jll v1.17.1+0\u001b[39m\n",
      "  \u001b[90m[cc61e674] \u001b[39m\u001b[92m+ Xorg_libxkbfile_jll v1.1.3+0\u001b[39m\n",
      "  \u001b[90m[e920d4aa] \u001b[39m\u001b[92m+ Xorg_xcb_util_cursor_jll v0.1.6+0\u001b[39m\n",
      "  \u001b[90m[12413925] \u001b[39m\u001b[92m+ Xorg_xcb_util_image_jll v0.4.1+0\u001b[39m\n",
      "  \u001b[90m[2def613f] \u001b[39m\u001b[92m+ Xorg_xcb_util_jll v0.4.1+0\u001b[39m\n",
      "  \u001b[90m[975044d2] \u001b[39m\u001b[92m+ Xorg_xcb_util_keysyms_jll v0.4.1+0\u001b[39m\n",
      "  \u001b[90m[0d47668e] \u001b[39m\u001b[92m+ Xorg_xcb_util_renderutil_jll v0.3.10+0\u001b[39m\n",
      "  \u001b[90m[c22f9ab0] \u001b[39m\u001b[92m+ Xorg_xcb_util_wm_jll v0.4.2+0\u001b[39m\n",
      "  \u001b[90m[35661453] \u001b[39m\u001b[92m+ Xorg_xkbcomp_jll v1.4.7+0\u001b[39m\n",
      "  \u001b[90m[33bec58e] \u001b[39m\u001b[92m+ Xorg_xkeyboard_config_jll v2.44.0+0\u001b[39m\n",
      "  \u001b[90m[c5fb5394] \u001b[39m\u001b[92m+ Xorg_xtrans_jll v1.6.0+0\u001b[39m\n",
      "  \u001b[90m[3161d3a3] \u001b[39m\u001b[92m+ Zstd_jll v1.5.7+1\u001b[39m\n",
      "  \u001b[90m[35ca27e7] \u001b[39m\u001b[92m+ eudev_jll v3.2.14+0\u001b[39m\n",
      "  \u001b[90m[214eeab7] \u001b[39m\u001b[92m+ fzf_jll v0.61.1+0\u001b[39m\n",
      "  \u001b[90m[a4ae2306] \u001b[39m\u001b[92m+ libaom_jll v3.12.1+0\u001b[39m\n",
      "  \u001b[90m[0ac62f75] \u001b[39m\u001b[92m+ libass_jll v0.17.4+0\u001b[39m\n",
      "  \u001b[90m[1183f4f0] \u001b[39m\u001b[92m+ libdecor_jll v0.2.2+0\u001b[39m\n",
      "  \u001b[90m[2db6ffa8] \u001b[39m\u001b[92m+ libevdev_jll v1.13.4+0\u001b[39m\n",
      "  \u001b[90m[f638f0a6] \u001b[39m\u001b[92m+ libfdk_aac_jll v2.0.4+0\u001b[39m\n",
      "  \u001b[90m[36db933b] \u001b[39m\u001b[92m+ libinput_jll v1.28.1+0\u001b[39m\n",
      "  \u001b[90m[b53b4c65] \u001b[39m\u001b[92m+ libpng_jll v1.6.50+0\u001b[39m\n",
      "  \u001b[90m[f27f6e37] \u001b[39m\u001b[92m+ libvorbis_jll v1.3.8+0\u001b[39m\n",
      "  \u001b[90m[009596ad] \u001b[39m\u001b[92m+ mtdev_jll v1.1.7+0\u001b[39m\n",
      "  \u001b[90m[1270edf5] \u001b[39m\u001b[92m+ x264_jll v10164.0.1+0\u001b[39m\n",
      "  \u001b[90m[dfaa095f] \u001b[39m\u001b[92m+ x265_jll v4.1.0+0\u001b[39m\n",
      "  \u001b[90m[d8fb68d0] \u001b[39m\u001b[92m+ xkbcommon_jll v1.9.2+0\u001b[39m\n",
      "  \u001b[90m[0dad84c5] \u001b[39m\u001b[92m+ ArgTools v1.1.1\u001b[39m\n",
      "  \u001b[90m[56f22d72] \u001b[39m\u001b[92m+ Artifacts\u001b[39m\n",
      "  \u001b[90m[2a0f44e3] \u001b[39m\u001b[92m+ Base64\u001b[39m\n",
      "  \u001b[90m[ade2ca70] \u001b[39m\u001b[92m+ Dates\u001b[39m\n",
      "  \u001b[90m[f43a241f] \u001b[39m\u001b[92m+ Downloads v1.6.0\u001b[39m\n",
      "  \u001b[90m[7b1f6079] \u001b[39m\u001b[92m+ FileWatching\u001b[39m\n",
      "  \u001b[90m[b77e0a4c] \u001b[39m\u001b[92m+ InteractiveUtils\u001b[39m\n",
      "  \u001b[90m[b27032c2] \u001b[39m\u001b[92m+ LibCURL v0.6.4\u001b[39m\n",
      "  \u001b[90m[76f85450] \u001b[39m\u001b[92m+ LibGit2\u001b[39m\n",
      "  \u001b[90m[8f399da3] \u001b[39m\u001b[92m+ Libdl\u001b[39m\n",
      "  \u001b[90m[37e2e46d] \u001b[39m\u001b[92m+ LinearAlgebra\u001b[39m\n",
      "  \u001b[90m[56ddb016] \u001b[39m\u001b[92m+ Logging\u001b[39m\n",
      "  \u001b[90m[d6f4376e] \u001b[39m\u001b[92m+ Markdown\u001b[39m\n",
      "  \u001b[90m[a63ad114] \u001b[39m\u001b[92m+ Mmap\u001b[39m\n",
      "  \u001b[90m[ca575930] \u001b[39m\u001b[92m+ NetworkOptions v1.2.0\u001b[39m\n",
      "  \u001b[90m[44cfe95a] \u001b[39m\u001b[92m+ Pkg v1.10.0\u001b[39m\n",
      "  \u001b[90m[de0858da] \u001b[39m\u001b[92m+ Printf\u001b[39m\n",
      "  \u001b[90m[3fa0cd96] \u001b[39m\u001b[92m+ REPL\u001b[39m\n",
      "  \u001b[90m[9a3f8284] \u001b[39m\u001b[92m+ Random\u001b[39m\n",
      "  \u001b[90m[ea8e919c] \u001b[39m\u001b[92m+ SHA v0.7.0\u001b[39m\n",
      "  \u001b[90m[9e88b42a] \u001b[39m\u001b[92m+ Serialization\u001b[39m\n",
      "  \u001b[90m[6462fe0b] \u001b[39m\u001b[92m+ Sockets\u001b[39m\n",
      "  \u001b[90m[2f01184e] \u001b[39m\u001b[92m+ SparseArrays v1.10.0\u001b[39m\n",
      "  \u001b[90m[10745b16] \u001b[39m\u001b[92m+ Statistics v1.10.0\u001b[39m\n",
      "  \u001b[90m[fa267f1f] \u001b[39m\u001b[92m+ TOML v1.0.3\u001b[39m\n",
      "  \u001b[90m[a4e569a6] \u001b[39m\u001b[92m+ Tar v1.10.0\u001b[39m\n",
      "  \u001b[90m[8dfed614] \u001b[39m\u001b[92m+ Test\u001b[39m\n",
      "  \u001b[90m[cf7118a7] \u001b[39m\u001b[92m+ UUIDs\u001b[39m\n",
      "  \u001b[90m[4ec0a83e] \u001b[39m\u001b[92m+ Unicode\u001b[39m\n",
      "  \u001b[90m[e66e0078] \u001b[39m\u001b[92m+ CompilerSupportLibraries_jll v1.0.5+1\u001b[39m\n",
      "  \u001b[90m[deac9b47] \u001b[39m\u001b[92m+ LibCURL_jll v8.4.0+0\u001b[39m\n",
      "  \u001b[90m[e37daf67] \u001b[39m\u001b[92m+ LibGit2_jll v1.6.4+0\u001b[39m\n",
      "  \u001b[90m[29816b5a] \u001b[39m\u001b[92m+ LibSSH2_jll v1.11.0+1\u001b[39m\n",
      "  \u001b[90m[c8ffd9c3] \u001b[39m\u001b[92m+ MbedTLS_jll v2.28.2+1\u001b[39m\n",
      "  \u001b[90m[14a3606d] \u001b[39m\u001b[92m+ MozillaCACerts_jll v2023.1.10\u001b[39m\n",
      "  \u001b[90m[4536629a] \u001b[39m\u001b[92m+ OpenBLAS_jll v0.3.23+2\u001b[39m\n",
      "  \u001b[90m[05823500] \u001b[39m\u001b[92m+ OpenLibm_jll v0.8.1+2\u001b[39m\n",
      "  \u001b[90m[efcefdf7] \u001b[39m\u001b[92m+ PCRE2_jll v10.42.0+1\u001b[39m\n",
      "  \u001b[90m[bea87d4a] \u001b[39m\u001b[92m+ SuiteSparse_jll v7.2.1+1\u001b[39m\n",
      "  \u001b[90m[83775a58] \u001b[39m\u001b[92m+ Zlib_jll v1.2.13+1\u001b[39m\n",
      "  \u001b[90m[8e850b90] \u001b[39m\u001b[92m+ libblastrampoline_jll v5.8.0+1\u001b[39m\n",
      "  \u001b[90m[8e850ede] \u001b[39m\u001b[92m+ nghttp2_jll v1.52.0+1\u001b[39m\n",
      "  \u001b[90m[3f19e933] \u001b[39m\u001b[92m+ p7zip_jll v17.4.0+2\u001b[39m\n",
      "\u001b[36m\u001b[1m        Info\u001b[22m\u001b[39m Packages marked with \u001b[33m⌅\u001b[39m have new versions available but compatibility constraints restrict them from upgrading. To see why use `status --outdated -m`\n",
      "\u001b[32m\u001b[1mPrecompiling\u001b[22m\u001b[39m project...\n",
      "\u001b[32m  ✓ \u001b[39m\u001b[90mStructUtils\u001b[39m\n",
      "\u001b[32m  ✓ \u001b[39m\u001b[90mDataStructures\u001b[39m\n",
      "\u001b[32m  ✓ \u001b[39m\u001b[90mSortingAlgorithms\u001b[39m\n",
      "\u001b[33m  ✓ \u001b[39m\u001b[90mJSON\u001b[39m\n",
      "\u001b[32m  ✓ \u001b[39m\u001b[90mStatsBase\u001b[39m\n"
     ]
    }
   ],
   "source": [
    "using Pkg\n",
    "Pkg.add(\"Plots\")"
   ]
  },
  {
   "cell_type": "markdown",
   "id": "10c44a7a-7b00-4e97-b2cb-254866f5713a",
   "metadata": {},
   "source": [
    "To remove a package:"
   ]
  },
  {
   "cell_type": "code",
   "execution_count": null,
   "id": "98a64a83-15e7-4a4c-b960-c045094f1ac5",
   "metadata": {},
   "outputs": [],
   "source": [
    "Pkg.rm(\"Plots\")"
   ]
  },
  {
   "cell_type": "markdown",
   "id": "716295c8-be0f-4ea4-8c78-0668dc936c65",
   "metadata": {},
   "source": [
    "To see all packages:"
   ]
  },
  {
   "cell_type": "code",
   "execution_count": null,
   "id": "a739d081-577f-45f9-abbc-cb60e57d2489",
   "metadata": {},
   "outputs": [],
   "source": [
    "Pkg.status()"
   ]
  },
  {
   "cell_type": "markdown",
   "id": "3b4b9b08-e490-42be-8a66-58d923a93758",
   "metadata": {},
   "source": [
    "### Project.toml and Manifest.toml\n",
    "\n",
    "- `Project.toml` defines which packages and versions your project depends on.\n",
    "- `Manifest.toml` locks the exact versions, including dependencies of dependencies.\n",
    "\n",
    "To ensure your environment files are up to date, run the following commands.\n",
    "\n",
    "```julia\n",
    "    Pkg.resolve()\n",
    "    Pkg.precompile()\n",
    "```\n",
    "\n",
    "These files should be committed to your Git repository — especially `Project.toml` — to ensure reproducibility for others.\n",
    "\n",
    "### Tips\n",
    "\n",
    "- Create a separate environment for each project.\n",
    "- Always run `Pkg.activate(\".\")` at the top of your notebook.\n",
    "- Run `Pkg.instantiate()` after cloning a project to install all required dependencies listed in `Project.toml` and `Manifest.toml`."
   ]
  },
  {
   "cell_type": "markdown",
   "id": "f7b6e596-0d10-4549-a273-d63060a4148a",
   "metadata": {},
   "source": [
    "## Comandline Integration\n",
    "To run a Julia script using a specific project environment, use:\n",
    "```bash\n",
    "julia --project=. script.jl\n",
    "```\n",
    "\n",
    "This will use the Project.toml in the current folder."
   ]
  },
  {
   "cell_type": "markdown",
   "id": "f30192ae-b2d8-4113-a63d-c01bf995cdfc",
   "metadata": {},
   "source": [
    "## Jupyter Integration\n",
    "To use your current Julia environment in Jupyter notebooks, you can generate a new Jupyter kernel associated with that environment. Run the following:\n",
    "```julia\n",
    "    using IJulia\n",
    "    IJulia.installkernel(\"Julia (ML Environment)\", env=Base.current_project(\"relative route to the environment\"))\n",
    "```\n",
    "\n",
    "Once installed, you’ll see a new kernel named 'Julia (ML Environment)' in Jupyter. Selecting it will automatically use the specified environment — no manual activation needed."
   ]
  },
  {
   "cell_type": "markdown",
   "id": "66d2c9cb-ef3f-476c-a93a-2a92ffacf0c3",
   "metadata": {},
   "source": [
    "## Suggested Project Structure for Practical Work\n",
    "\n",
    "To ensure clarity, maintainability, and reproducibility, it is strongly recommended to organise your course projects using a structured folder layout. Here is a suggested directory structure:\n",
    "```\n",
    "/ML1/\n",
    "│\n",
    "├── environment/ ← Contains the Julia environment files\n",
    "│ ├── Project.toml\n",
    "│ └── Manifest.toml\n",
    "│\n",
    "├── notebooks/ ← Jupyter notebooks for development and experimentation\n",
    "│ ├── 00_environment_setup.ipynb\n",
    "│ └── ... (other notebooks)\n",
    "│\n",
    "└── scripts/ ← Julia scripts for reusable or production code\n",
    "  └── train_model.jl\n",
    "```\n",
    "\n",
    "\n",
    "### Why use this structure?\n",
    "\n",
    "- **Isolation**: All dependencies are managed inside `environment/` to avoid conflicts and ensure reproducibility.\n",
    "- **Separation of concerns**: Notebooks are used for interactive exploration and documentation; scripts are for finalised or automated code.\n",
    "- **Portability**: You (and others) can easily clone the repository, activate the environment, and reproduce your results.\n",
    "- **Scalability**: This layout scales well as your project grows.\n",
    "\n",
    "### Tips\n",
    "\n",
    "- Always start your notebooks with (form the notebook folder):\n",
    "  \n",
    "  ```julia\n",
    "      using Pkg\n",
    "      Pkg.activate(\"../environment\")\n",
    "  ```\n",
    "- When running scripts from the command line, use (from the script folder):\n",
    "  ```bash\n",
    "      julia --project=environment/ scripts/train_model.jl\n",
    "  ```\n",
    "\n",
    "- Alternatively, to use the environment directly in Jupyter, you can generate a dedicated kernel (from the notebook folder):\n",
    "  ```julia\n",
    "      using IJulia\n",
    "      IJulia.installkernel(\"Julia (ML Environment)\", env=Base.current_project(\"../environment\"))\n",
    "  ```"
   ]
  },
  {
   "cell_type": "code",
   "execution_count": null,
   "id": "21fbbe87-5cc3-4566-bc8c-2c1ed8ad0ed1",
   "metadata": {},
   "outputs": [],
   "source": []
  }
 ],
 "metadata": {
  "kernelspec": {
   "display_name": "Julia 1.10.0",
   "language": "julia",
   "name": "julia-1.10"
  },
  "language_info": {
   "file_extension": ".jl",
   "mimetype": "application/julia",
   "name": "julia",
   "version": "1.10.0"
  }
 },
 "nbformat": 4,
 "nbformat_minor": 5
}
